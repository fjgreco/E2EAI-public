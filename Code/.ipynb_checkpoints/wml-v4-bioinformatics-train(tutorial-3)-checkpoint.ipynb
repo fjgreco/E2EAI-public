{
 "cells": [
  {
   "cell_type": "raw",
   "metadata": {},
   "source": [
    "Copyright (c) 2021 F.J. Greco\n",
    "\n",
    "Permission is hereby granted, free of charge, to any person obtaining a copy\n",
    "of this software and associated documentation files (the \"Software\"), to deal\n",
    "in the Software without restriction, including without limitation the rights\n",
    "to use, copy, modify, merge, publish, distribute, sublicense, and/or sell\n",
    "copies of the Software, and to permit persons to whom the Software is\n",
    "furnished to do so, subject to the following conditions:\n",
    "\n",
    "The above copyright notice and this permission notice shall be included in all\n",
    "copies or substantial portions of the Software.\n",
    "\n",
    "THE SOFTWARE IS PROVIDED \"AS IS\", WITHOUT WARRANTY OF ANY KIND, EXPRESS OR\n",
    "IMPLIED, INCLUDING BUT NOT LIMITED TO THE WARRANTIES OF MERCHANTABILITY,\n",
    "FITNESS FOR A PARTICULAR PURPOSE AND NONINFRINGEMENT. IN NO EVENT SHALL THE\n",
    "AUTHORS OR COPYRIGHT HOLDERS BE LIABLE FOR ANY CLAIM, DAMAGES OR OTHER\n",
    "LIABILITY, WHETHER IN AN ACTION OF CONTRACT, TORT OR OTHERWISE, ARISING FROM,\n",
    "OUT OF OR IN CONNECTION WITH THE SOFTWARE OR THE USE OR OTHER DEALINGS IN THE\n",
    "SOFTWARE."
   ]
  },
  {
   "cell_type": "markdown",
   "metadata": {},
   "source": [
    "# Bioinformatics Model \n",
    "\n",
    "## Training Using Watson Machine Learning - Tutorial 4\n",
    "\n",
    "## Pre-requisites:\n",
    "\n",
    "Access to an IBM Cloud Object Storage instance\n",
    "\n",
    "Access to a WML instance running on the IBM Cloud\n",
    "\n",
    "The e2eai_credentials.json file (included in the repo clone) in your local directory updated with credentials for the cloud object storage and WML instances\n",
    "\n",
    "A copy of ICOS.py (included in the repo clone) in the local directory\n",
    "\n",
    "The ibm-cos-sdk  python package installed in your python execution environment. space\n",
    "\n",
    "The watson-machine-learning-client  python package installed in your python execution environment.\n",
    "\n",
    "A  WML deployment space and its space id\n",
    "\n",
    "### Contact:  fjgreco@us.ibm.com"
   ]
  },
  {
   "cell_type": "markdown",
   "metadata": {},
   "source": [
    "#### <font color=red>Optional installation of ibm-cos-sdk</font>"
   ]
  },
  {
   "cell_type": "raw",
   "metadata": {},
   "source": [
    "# Convert to code from RawNBConvert and run once if needed\n",
    "!pip install ibm-cos-sdk"
   ]
  },
  {
   "cell_type": "markdown",
   "metadata": {},
   "source": [
    "#### <font color=red>Optional installation of watson-machine-learning-client</font>"
   ]
  },
  {
   "cell_type": "raw",
   "metadata": {},
   "source": [
    "!pip install watson-machine-learning-client-V4"
   ]
  },
  {
   "cell_type": "markdown",
   "metadata": {},
   "source": [
    "### Run the following  if in CP4D"
   ]
  },
  {
   "cell_type": "raw",
   "metadata": {},
   "source": [
    "from project_lib import Project\n",
    "project = Project.access()\n",
    "storage_credentials = project.get_storage_metadata()"
   ]
  },
  {
   "cell_type": "markdown",
   "metadata": {},
   "source": [
    "## Import packages"
   ]
  },
  {
   "cell_type": "code",
   "execution_count": 1,
   "metadata": {},
   "outputs": [],
   "source": [
    "import json\n",
    "import os\n",
    "import wget"
   ]
  },
  {
   "cell_type": "code",
   "execution_count": 2,
   "metadata": {},
   "outputs": [],
   "source": [
    "from ICOS import ICOS"
   ]
  },
  {
   "cell_type": "code",
   "execution_count": 3,
   "metadata": {},
   "outputs": [],
   "source": [
    "from ibm_watson_machine_learning import APIClient"
   ]
  },
  {
   "cell_type": "markdown",
   "metadata": {},
   "source": [
    "### Obtain access credentials"
   ]
  },
  {
   "cell_type": "code",
   "execution_count": 4,
   "metadata": {},
   "outputs": [],
   "source": [
    "with open(\"e2eai_credentials.json\") as json_file:\n",
    "    credentials = json.load(json_file)\n",
    "\n",
    "wml_credentials=credentials['wml_credentials_e2eai']\n",
    "\n",
    "icos_credentials=credentials['icos_credentials_e2eai']\n"
   ]
  },
  {
   "cell_type": "markdown",
   "metadata": {},
   "source": [
    "###  Manifest handling"
   ]
  },
  {
   "cell_type": "markdown",
   "metadata": {},
   "source": [
    "### Approach 1: Create  a local manifest here "
   ]
  },
  {
   "cell_type": "code",
   "execution_count": 5,
   "metadata": {},
   "outputs": [],
   "source": [
    "experiment_manifest={'zip_file': 'tf_model_v8T.zip',  #<----specify from build\n",
    " 'git_url': 'https://github.com/fjgreco/e2eai_assay/blob/master/tf_model_v8T.zip?raw=true', #<---specify from build\n",
    " 'neural_network_pgm': 'tf_model_v8T/neural_network_v8T.py', #<----specify from build\n",
    " 'training_definition_name': 'mac-bioinformatics-training-definition_v4nn8T',\n",
    " 'training_run_name': 'mac-bioinformatics-training-run_v4nn8T',\n",
    " 'trained_model_name': 'mac_bioinformatics_model_v4nn8T',\n",
    " 'compressed_recompiled_model': 'mac_recompiled_bioinformatics_model_v4nn8T.tgz',\n",
    " 'recompiled_model_h5': 'mac_recompiled_bioinformatics_model.h5',\n",
    " 'deployment_name': 'mac_bioinformatics_deployment_v4nn8T',\n",
    " 'training_bucket': 'e2eai-training',   #<---------- Override with you bucket name\n",
    " 'results_bucket': 'e2eai-results-060621',   #<----------- Override with you bucket name\n",
    " 'model_location': None}"
   ]
  },
  {
   "cell_type": "markdown",
   "metadata": {},
   "source": [
    "### Approach 2: Read from json file\n",
    "\n",
    "<font color=red>Turned off for tutorial simplification</font>"
   ]
  },
  {
   "cell_type": "raw",
   "metadata": {},
   "source": [
    "with open(\"manifest.json\") as json_file:\n",
    "    manifest = json.load(json_file)    \n",
    "experiment_manifest=manifest['manifest']"
   ]
  },
  {
   "cell_type": "code",
   "execution_count": 6,
   "metadata": {},
   "outputs": [
    {
     "data": {
      "text/plain": [
       "{'zip_file': 'tf_model_v8T.zip',\n",
       " 'git_url': 'https://github.com/fjgreco/e2eai_assay/blob/master/tf_model_v8T.zip?raw=true',\n",
       " 'neural_network_pgm': 'tf_model_v8T/neural_network_v8T.py',\n",
       " 'training_definition_name': 'mac-bioinformatics-training-definition_v4nn8T',\n",
       " 'training_run_name': 'mac-bioinformatics-training-run_v4nn8T',\n",
       " 'trained_model_name': 'mac_bioinformatics_model_v4nn8T',\n",
       " 'compressed_recompiled_model': 'mac_recompiled_bioinformatics_model_v4nn8T.tgz',\n",
       " 'recompiled_model_h5': 'mac_recompiled_bioinformatics_model.h5',\n",
       " 'deployment_name': 'mac_bioinformatics_deployment_v4nn8T',\n",
       " 'training_bucket': 'e2eai-training',\n",
       " 'results_bucket': 'e2eai-results-060621',\n",
       " 'model_location': None}"
      ]
     },
     "execution_count": 6,
     "metadata": {},
     "output_type": "execute_result"
    }
   ],
   "source": [
    "experiment_manifest"
   ]
  },
  {
   "cell_type": "markdown",
   "metadata": {},
   "source": [
    "## Step 2: Download the sample model-building code into the notebook's working directory:"
   ]
  },
  {
   "cell_type": "code",
   "execution_count": 7,
   "metadata": {},
   "outputs": [
    {
     "name": "stdout",
     "output_type": "stream",
     "text": [
      "File: tf_model_v8T.zip is in local directory\n"
     ]
    }
   ],
   "source": [
    "zip_filename = experiment_manifest[\"zip_file\"]\n",
    "url= experiment_manifest[\"git_url\"]\n",
    "# NOTE: If you are re-running this code block again, having changed the model or adding your own custom model\n",
    "# be careful to ensure that your new model is the one which is truly downloaded.\n",
    "if not os.path.isfile( zip_filename ): \n",
    "    print(\"File {} not found, Download from {} \".format(zip_filename,url))\n",
    "    wget.download(url)\n",
    "else:\n",
    "    print('File: {} is in local directory'.format(zip_filename))"
   ]
  },
  {
   "cell_type": "markdown",
   "metadata": {},
   "source": [
    "### Optional: Check the local file system to confirm the download from github"
   ]
  },
  {
   "cell_type": "raw",
   "metadata": {},
   "source": [
    "!ls -alR"
   ]
  },
  {
   "cell_type": "markdown",
   "metadata": {},
   "source": [
    "## Step 3: Train the model"
   ]
  },
  {
   "cell_type": "markdown",
   "metadata": {},
   "source": [
    "###  Instantiate a WML client object:"
   ]
  },
  {
   "cell_type": "code",
   "execution_count": 8,
   "metadata": {},
   "outputs": [
    {
     "data": {
      "text/plain": [
       "'1.0.57'"
      ]
     },
     "execution_count": 8,
     "metadata": {},
     "output_type": "execute_result"
    }
   ],
   "source": [
    "client = APIClient(wml_credentials) \n",
    "client.version"
   ]
  },
  {
   "cell_type": "markdown",
   "metadata": {},
   "source": [
    "###  Instantiate an IBM COS client object:"
   ]
  },
  {
   "cell_type": "code",
   "execution_count": 9,
   "metadata": {},
   "outputs": [],
   "source": [
    "icos=ICOS(icos_credentials=icos_credentials)"
   ]
  },
  {
   "cell_type": "markdown",
   "metadata": {},
   "source": [
    "### <font color=blue>Create a results bucket</font>"
   ]
  },
  {
   "cell_type": "code",
   "execution_count": 10,
   "metadata": {},
   "outputs": [
    {
     "name": "stdout",
     "output_type": "stream",
     "text": [
      "<class 'Exception'> An error occurred (BucketAlreadyExists) when calling the CreateBucket operation: The requested bucket name is not available. The bucket namespace is shared by all users of the system. Please select a different name and try again.\n",
      "None\n"
     ]
    }
   ],
   "source": [
    "res=icos.create_bucket(experiment_manifest['results_bucket'])\n",
    "print(res)"
   ]
  },
  {
   "cell_type": "markdown",
   "metadata": {},
   "source": [
    "#### <font color=red>If you receive a BucketAlreadyExists exception message, you may proceed assuming the bucket exists in your ICOS instance.</font>"
   ]
  },
  {
   "cell_type": "markdown",
   "metadata": {},
   "source": [
    "### <font color=blue>Set deployment space</font>"
   ]
  },
  {
   "cell_type": "code",
   "execution_count": 11,
   "metadata": {},
   "outputs": [],
   "source": [
    "E2EAI_WS_space_id = '36125782-4474-44a9-bc9f-8e081c7d8f73'  "
   ]
  },
  {
   "cell_type": "code",
   "execution_count": 12,
   "metadata": {},
   "outputs": [],
   "source": [
    "space_id=E2EAI_WS_space_id"
   ]
  },
  {
   "cell_type": "code",
   "execution_count": 13,
   "metadata": {},
   "outputs": [
    {
     "data": {
      "text/plain": [
       "'SUCCESS'"
      ]
     },
     "execution_count": 13,
     "metadata": {},
     "output_type": "execute_result"
    }
   ],
   "source": [
    "client.set.default_space(space_id)"
   ]
  },
  {
   "cell_type": "markdown",
   "metadata": {},
   "source": [
    "## Setup up WML training run"
   ]
  },
  {
   "cell_type": "code",
   "execution_count": 14,
   "metadata": {},
   "outputs": [],
   "source": [
    "sequence_file='assay/assay_data_full.seq'   #Obtained from synthetic assay run\n",
    "label_file='assay/assay_data_full.lbl'     #Obtained from synthetic assay run"
   ]
  },
  {
   "cell_type": "code",
   "execution_count": 15,
   "metadata": {},
   "outputs": [
    {
     "data": {
      "text/plain": [
       "'python3 tf_model_v8T/neural_network_v8T.py --sequencesFile ${DATA_DIR}/assay/assay_data_full.seq --labelsFile ${DATA_DIR}/assay/assay_data_full.lbl'"
      ]
     },
     "execution_count": 15,
     "metadata": {},
     "output_type": "execute_result"
    }
   ],
   "source": [
    "command=\"python3 {} --sequencesFile ${{DATA_DIR}}/{} --labelsFile ${{DATA_DIR}}/{}\".format(experiment_manifest[\"neural_network_pgm\"],sequence_file,label_file)\n",
    "command"
   ]
  },
  {
   "cell_type": "code",
   "execution_count": 16,
   "metadata": {},
   "outputs": [],
   "source": [
    "metaprops = {\n",
    "    client.model_definitions.ConfigurationMetaNames.NAME: experiment_manifest['training_definition_name'],\n",
    "    client.model_definitions.ConfigurationMetaNames.DESCRIPTION: \"BIOINFORMATICS4V6NN\",\n",
    "    client.model_definitions.ConfigurationMetaNames.COMMAND: command,\n",
    "    client.model_definitions.ConfigurationMetaNames.PLATFORM: {\"name\": \"python\", \"versions\": [\"3.6\"]},\n",
    "    client.model_definitions.ConfigurationMetaNames.VERSION: \"2.0\",\n",
    "    client.model_definitions.ConfigurationMetaNames.SPACE_UID: space_id\n",
    "}"
   ]
  },
  {
   "cell_type": "code",
   "execution_count": 17,
   "metadata": {},
   "outputs": [],
   "source": [
    "model_definition_details = client.model_definitions.store(experiment_manifest[\"zip_file\"], meta_props=metaprops)"
   ]
  },
  {
   "cell_type": "code",
   "execution_count": 18,
   "metadata": {},
   "outputs": [
    {
     "name": "stdout",
     "output_type": "stream",
     "text": [
      "ba8227ff-66dc-48c6-9c58-1757f854c033\n"
     ]
    }
   ],
   "source": [
    "model_definition_id = client.model_definitions.get_uid(model_definition_details)   \n",
    "print(model_definition_id)"
   ]
  },
  {
   "cell_type": "code",
   "execution_count": 19,
   "metadata": {},
   "outputs": [],
   "source": [
    "training_metadata = {\n",
    "    client.training.ConfigurationMetaNames.NAME: \"BIOINFO\",\n",
    "    client.training.ConfigurationMetaNames.SPACE_UID: space_id,\n",
    "    client.training.ConfigurationMetaNames.DESCRIPTION: \"Transcription Factor Model\",\n",
    "    client.training.ConfigurationMetaNames.TAGS :[{\n",
    "      \"value\": 'BIOINFO',\n",
    "      \"description\": \"predict binding property\"\n",
    "    }],\n",
    "    client.training.ConfigurationMetaNames.TRAINING_RESULTS_REFERENCE: {\n",
    "      \"connection\" : {\n",
    "      \"endpoint_url\"      : \"https://s3.us.cloud-object-storage.appdomain.cloud\",\n",
    "      \"access_key_id\"     : icos_credentials['cos_hmac_keys']['access_key_id'],\n",
    "      \"secret_access_key\" : icos_credentials['cos_hmac_keys']['secret_access_key']\n",
    "      },\n",
    "      \"location\" : {\n",
    "         \"bucket\" : experiment_manifest['results_bucket'],\n",
    "      },\n",
    "      \"type\" : \"s3\"\n",
    "    },\n",
    "    \n",
    "    client.training.ConfigurationMetaNames.TRAINING_DATA_REFERENCES:\n",
    "    [{\n",
    "      \"connection\" : { \n",
    "      \"endpoint_url\"      : \"https://s3.us.cloud-object-storage.appdomain.cloud\",\n",
    "      \"access_key_id\"     : icos_credentials['cos_hmac_keys']['access_key_id'],\n",
    "      \"secret_access_key\" : icos_credentials['cos_hmac_keys']['secret_access_key']\n",
    "      },\n",
    "     \"location\" : { \n",
    "        \"bucket\" : experiment_manifest['training_bucket'],\n",
    "      },\n",
    "      \"type\" : \"s3\"\n",
    "       } \n",
    "    ],\n",
    "  client.training.ConfigurationMetaNames.MODEL_DEFINITION:{\n",
    "        \"id\": model_definition_id,\n",
    "        \"command\": command,\n",
    "        \"hardware_spec\": {\n",
    "          \"name\": \"K80\",\n",
    "          \"nodes\": 1\n",
    "        },\n",
    "        \"software_spec\": {\n",
    "          \"name\": \"tensorflow_2.1-py3.7\"\n",
    "        },\n",
    "        \"parameters\": {\n",
    "          \"name\": \"BIOINFO\",\n",
    "          \"description\": \"Transcription Factor Model\"\n",
    "        }\n",
    "      }\n",
    "}"
   ]
  },
  {
   "cell_type": "markdown",
   "metadata": {},
   "source": [
    "## Step 4: Monitor training progress and results"
   ]
  },
  {
   "cell_type": "markdown",
   "metadata": {},
   "source": [
    "## Start run and monitor training progress"
   ]
  },
  {
   "cell_type": "code",
   "execution_count": 20,
   "metadata": {},
   "outputs": [
    {
     "name": "stdout",
     "output_type": "stream",
     "text": [
      "pending pending pending pending pending running pending pending pending running running running running running running running running running running running running running running running running completed\n"
     ]
    }
   ],
   "source": [
    "training = client.training.run(training_metadata)\n",
    "\n",
    "training_id = client.training.get_uid(training)\n",
    "\n",
    "from time import sleep\n",
    "\n",
    "cts=client.training.get_details(training_id)['entity']['status']['state']\n",
    "\n",
    "while cts not in ['completed', 'failed', 'canceled', 'error']:\n",
    "    print(cts,end=' ')\n",
    "    sleep(10)\n",
    "    cts=client.training.get_status(training_id)['state']\n",
    "    \n",
    "print( cts )"
   ]
  },
  {
   "cell_type": "markdown",
   "metadata": {},
   "source": [
    "## Review Results\n",
    "### Check run details..."
   ]
  },
  {
   "cell_type": "code",
   "execution_count": null,
   "metadata": {},
   "outputs": [],
   "source": [
    "ctd=client.training.get_details(training_id) \n",
    "print(json.dumps(ctd,indent=2))"
   ]
  },
  {
   "cell_type": "markdown",
   "metadata": {},
   "source": [
    "### model.h5, model.tgz, model.json, and model_weights.h5 were placed in ICOS by the keras python program"
   ]
  },
  {
   "cell_type": "markdown",
   "metadata": {},
   "source": [
    "### <font color=blue>Extract folder in results containing training output. Retain folder name for use in salient notebook</font>"
   ]
  },
  {
   "cell_type": "code",
   "execution_count": 22,
   "metadata": {},
   "outputs": [
    {
     "data": {
      "text/plain": [
       "'training-j5ADjf6Gg'"
      ]
     },
     "execution_count": 22,
     "metadata": {},
     "output_type": "execute_result"
    }
   ],
   "source": [
    "model_location= ctd['entity']['results_reference']['location']['logs']\n",
    "model_location"
   ]
  },
  {
   "cell_type": "code",
   "execution_count": 23,
   "metadata": {},
   "outputs": [
    {
     "name": "stdout",
     "output_type": "stream",
     "text": [
      "Retrieving relevant bucket contents from: e2eai-results-060621 Model_location: training-j5ADjf6Gg\n",
      "\n",
      "training-j5ADjf6Gg/bioinformatics_model.h5\n",
      "training-j5ADjf6Gg/bioinformatics_model.json\n",
      "training-j5ADjf6Gg/bioinformatics_model.tgz\n",
      "training-j5ADjf6Gg/bioinformatics_model_cm.p\n",
      "training-j5ADjf6Gg/bioinformatics_model_history.p\n",
      "training-j5ADjf6Gg/bioinformatics_model_weights.h5\n",
      "training-j5ADjf6Gg/training-log.txt\n"
     ]
    }
   ],
   "source": [
    "dl2=icos.get_download_list_loc(experiment_manifest['results_bucket'],model_location,results_folder='.')"
   ]
  },
  {
   "cell_type": "markdown",
   "metadata": {},
   "source": [
    "## Review results"
   ]
  },
  {
   "cell_type": "code",
   "execution_count": 24,
   "metadata": {
    "scrolled": false
   },
   "outputs": [
    {
     "name": "stdout",
     "output_type": "stream",
     "text": [
      "Training with training/test data at:\r\n",
      "  DATA_DIR: /mnt/data/e2eai-training\r\n",
      "  MODEL_DIR: /job/model-code\r\n",
      "  TRAINING_JOB: \r\n",
      "  TRAINING_COMMAND: python3 tf_model_v8T/neural_network_v8T.py --sequencesFile ${DATA_DIR}/assay/assay_data_full.seq --labelsFile ${DATA_DIR}/assay/assay_data_full.lbl\r\n",
      "Storing trained model at:\r\n",
      "  RESULT_DIR: /mnt/results/e2eai-results-060621/training-j5ADjf6Gg\r\n",
      "Mon Jun  7 02:33:00 UTC 2021: Running Tensorflow job\r\n",
      "2021-06-07 02:33:00.646685: I tensorflow/stream_executor/platform/default/dso_loader.cc:44] Successfully opened dynamic library libcudart.so.10.2\r\n",
      "2021-06-07 02:33:01.315206: I tensorflow/stream_executor/platform/default/dso_loader.cc:44] Successfully opened dynamic library libnvinfer.so.7\r\n",
      "2021-06-07 02:33:01.316041: I tensorflow/stream_executor/platform/default/dso_loader.cc:44] Successfully opened dynamic library libnvinfer_plugin.so.7\r\n",
      "2021-06-07 02:33:03.718604: I tensorflow/stream_executor/platform/default/dso_loader.cc:44] Successfully opened dynamic library libcuda.so.1\r\n",
      "2021-06-07 02:33:07.029398: I tensorflow/core/common_runtime/gpu/gpu_device.cc:1558] Found device 0 with properties: \r\n",
      "pciBusID: 0000:da:00.0 name: Tesla K80 computeCapability: 3.7\r\n",
      "coreClock: 0.8235GHz coreCount: 13 deviceMemorySize: 11.17GiB deviceMemoryBandwidth: 223.96GiB/s\r\n",
      "2021-06-07 02:33:07.029921: I tensorflow/stream_executor/platform/default/dso_loader.cc:44] Successfully opened dynamic library libcudart.so.10.2\r\n",
      "2021-06-07 02:33:07.030070: I tensorflow/stream_executor/platform/default/dso_loader.cc:44] Successfully opened dynamic library libcublas.so.10\r\n",
      "2021-06-07 02:33:07.033100: I tensorflow/stream_executor/platform/default/dso_loader.cc:44] Successfully opened dynamic library libcufft.so.10\r\n",
      "2021-06-07 02:33:07.033732: I tensorflow/stream_executor/platform/default/dso_loader.cc:44] Successfully opened dynamic library libcurand.so.10\r\n",
      "2021-06-07 02:33:07.036874: I tensorflow/stream_executor/platform/default/dso_loader.cc:44] Successfully opened dynamic library libcusolver.so.10\r\n",
      "2021-06-07 02:33:07.038575: I tensorflow/stream_executor/platform/default/dso_loader.cc:44] Successfully opened dynamic library libcusparse.so.10\r\n",
      "2021-06-07 02:33:07.038687: I tensorflow/stream_executor/platform/default/dso_loader.cc:44] Successfully opened dynamic library libcudnn.so.7\r\n",
      "2021-06-07 02:33:07.040944: I tensorflow/core/common_runtime/gpu/gpu_device.cc:1700] Adding visible gpu devices: 0\r\n",
      "2021-06-07 02:33:07.041683: I tensorflow/core/platform/cpu_feature_guard.cc:142] Your CPU supports instructions that this TensorFlow binary was not compiled to use: SSE4.1 SSE4.2 AVX AVX2 AVX512F FMA\r\n",
      "2021-06-07 02:33:07.071105: I tensorflow/core/platform/profile_utils/cpu_utils.cc:101] CPU Frequency: 2300000000 Hz\r\n",
      "2021-06-07 02:33:07.077086: I tensorflow/compiler/xla/service/service.cc:168] XLA service 0x55bc6897c130 initialized for platform Host (this does not guarantee that XLA will be used). Devices:\r\n",
      "2021-06-07 02:33:07.077112: I tensorflow/compiler/xla/service/service.cc:176]   StreamExecutor device (0): Host, Default Version\r\n",
      "2021-06-07 02:33:07.077844: I tensorflow/core/common_runtime/gpu/gpu_device.cc:1558] Found device 0 with properties: \r\n",
      "pciBusID: 0000:da:00.0 name: Tesla K80 computeCapability: 3.7\r\n",
      "coreClock: 0.8235GHz coreCount: 13 deviceMemorySize: 11.17GiB deviceMemoryBandwidth: 223.96GiB/s\r\n",
      "2021-06-07 02:33:07.077882: I tensorflow/stream_executor/platform/default/dso_loader.cc:44] Successfully opened dynamic library libcudart.so.10.2\r\n",
      "2021-06-07 02:33:07.077894: I tensorflow/stream_executor/platform/default/dso_loader.cc:44] Successfully opened dynamic library libcublas.so.10\r\n",
      "2021-06-07 02:33:07.077912: I tensorflow/stream_executor/platform/default/dso_loader.cc:44] Successfully opened dynamic library libcufft.so.10\r\n",
      "2021-06-07 02:33:07.077922: I tensorflow/stream_executor/platform/default/dso_loader.cc:44] Successfully opened dynamic library libcurand.so.10\r\n",
      "2021-06-07 02:33:07.077932: I tensorflow/stream_executor/platform/default/dso_loader.cc:44] Successfully opened dynamic library libcusolver.so.10\r\n",
      "2021-06-07 02:33:07.077941: I tensorflow/stream_executor/platform/default/dso_loader.cc:44] Successfully opened dynamic library libcusparse.so.10\r\n",
      "2021-06-07 02:33:07.077964: I tensorflow/stream_executor/platform/default/dso_loader.cc:44] Successfully opened dynamic library libcudnn.so.7\r\n",
      "2021-06-07 02:33:07.078770: I tensorflow/core/common_runtime/gpu/gpu_device.cc:1700] Adding visible gpu devices: 0\r\n",
      "2021-06-07 02:33:07.078794: I tensorflow/stream_executor/platform/default/dso_loader.cc:44] Successfully opened dynamic library libcudart.so.10.2\r\n",
      "2021-06-07 02:33:07.603332: I tensorflow/core/common_runtime/gpu/gpu_device.cc:1099] Device interconnect StreamExecutor with strength 1 edge matrix:\r\n",
      "2021-06-07 02:33:07.603385: I tensorflow/core/common_runtime/gpu/gpu_device.cc:1105]      0 \r\n",
      "2021-06-07 02:33:07.603392: I tensorflow/core/common_runtime/gpu/gpu_device.cc:1118] 0:   N \r\n",
      "2021-06-07 02:33:07.604796: I tensorflow/core/common_runtime/gpu/gpu_device.cc:1244] Created TensorFlow device (/job:localhost/replica:0/task:0/device:GPU:0 with 10712 MB memory) -> physical GPU (device: 0, name: Tesla K80, pci bus id: 0000:da:00.0, compute capability: 3.7)\r\n",
      "2021-06-07 02:33:07.607561: I tensorflow/compiler/xla/service/service.cc:168] XLA service 0x55bc7beccb80 initialized for platform CUDA (this does not guarantee that XLA will be used). Devices:\r\n",
      "2021-06-07 02:33:07.607616: I tensorflow/compiler/xla/service/service.cc:176]   StreamExecutor device (0): Tesla K80, Compute Capability 3.7\r\n",
      "2021-06-07 02:33:08.825965: I tensorflow/stream_executor/platform/default/dso_loader.cc:44] Successfully opened dynamic library libcublas.so.10\r\n",
      "2021-06-07 02:33:08.965098: I tensorflow/stream_executor/platform/default/dso_loader.cc:44] Successfully opened dynamic library libcudnn.so.7\r\n",
      "bioinformatics_model.h5\r\n",
      "$RESULT_DIR\r\n",
      "output model folder:  /mnt/results/e2eai-results-060621/training-j5ADjf6Gg\r\n",
      "history_filename:  bioinformatics_model_history.p\r\n",
      "cm_filename:  bioinformatics_model_cm.p\r\n",
      "h5_filename:  bioinformatics_model.h5\r\n",
      "tar_filename:  bioinformatics_model.tgz\r\n",
      "model_weights:  bioinformatics_model_weights.h5\r\n",
      "serialized_model:  bioinformatics_model.json\r\n",
      "loss_graph: bioinformatics_model_loss.png\r\n",
      "accuracy_graph: bioinformatics_model_accuracy.png\r\n",
      "\r\n",
      "\r\n",
      "Number of epochs:  10\r\n",
      "Learning Rate:     0.01\r\n",
      "Include LSTM:      True\r\n",
      "Feature Shape:     50\r\n",
      "Sequence 1\r\n",
      "-----------------------\r\n",
      "DNA Sequence #1:\r\n",
      " CCGAGGGCTA ... CGCGGACACC\r\n",
      "One hot encoding of Sequence #1:\r\n",
      " [[0. 0. 0. ... 1. 0. 0.]\r\n",
      " [1. 1. 0. ... 0. 1. 1.]\r\n",
      " [0. 0. 1. ... 0. 0. 0.]\r\n",
      " [0. 0. 0. ... 0. 0. 0.]]\r\n",
      "Labels:\r\n",
      " [['0' '0' '0' ... '0' '1' '1']]\r\n",
      "One-hot encoded labels:\r\n",
      " [[1. 1. 1. ... 1. 0. 0.]\r\n",
      " [0. 0. 0. ... 0. 1. 1.]]\r\n",
      "Model: \"sequential\"\r\n",
      "_________________________________________________________________\r\n",
      "Layer (type)                 Output Shape              Param #   \r\n",
      "=================================================================\r\n",
      "conv1d (Conv1D)              (None, 39, 32)            1568      \r\n",
      "_________________________________________________________________\r\n",
      "max_pooling1d (MaxPooling1D) (None, 9, 32)             0         \r\n",
      "_________________________________________________________________\r\n",
      "lstm (LSTM)                  (None, 50)                16600     \r\n",
      "_________________________________________________________________\r\n",
      "flatten (Flatten)            (None, 50)                0         \r\n",
      "_________________________________________________________________\r\n",
      "dense (Dense)                (None, 16)                816       \r\n",
      "_________________________________________________________________\r\n",
      "dense_1 (Dense)              (None, 2)                 34        \r\n",
      "=================================================================\r\n",
      "Total params: 19,018\r\n",
      "Trainable params: 19,018\r\n",
      "Non-trainable params: 0\r\n",
      "_________________________________________________________________\r\n",
      "binary_accuracy: 100.00%\r\n"
     ]
    }
   ],
   "source": [
    "!cat training-log.txt"
   ]
  },
  {
   "cell_type": "markdown",
   "metadata": {},
   "source": [
    "##  <font color=green>Proceed to running e2eai-bioinformatics-analysis(tutorial).ipynb...</font>"
   ]
  }
 ],
 "metadata": {
  "kernelspec": {
   "display_name": "Python 3",
   "language": "python",
   "name": "python3"
  },
  "language_info": {
   "codemirror_mode": {
    "name": "ipython",
    "version": 3
   },
   "file_extension": ".py",
   "mimetype": "text/x-python",
   "name": "python",
   "nbconvert_exporter": "python",
   "pygments_lexer": "ipython3",
   "version": "3.7.4"
  },
  "toc": {
   "nav_menu": {},
   "number_sections": true,
   "sideBar": true,
   "skip_h1_title": false,
   "toc_cell": false,
   "toc_position": {},
   "toc_section_display": "block",
   "toc_window_display": false
  }
 },
 "nbformat": 4,
 "nbformat_minor": 1
}
