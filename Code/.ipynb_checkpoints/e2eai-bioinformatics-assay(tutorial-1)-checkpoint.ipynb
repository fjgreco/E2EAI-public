{
 "cells": [
  {
   "cell_type": "markdown",
   "metadata": {},
   "source": [
    "# Bioinformatics Modeling\n",
    "\n",
    "## Synthetic Gene Sequence Data Builder - Tutorial 1\n",
    "\n",
    "## Pre-requisites:\n",
    " \n",
    "- Access to an IBM Cloud Object Storage instance\n",
    "\n",
    "- The e2eai_credentials.json file (included in the repo clone) in your local directory updated with credentials to the cloud object storage instance\n",
    "\n",
    "- A copy of ICOS.py (included in the repo clone) in the local directory\n",
    "\n",
    "- The ibm-cos-sdk  python package installed in your python execution environment\n",
    "\n",
    "\n",
    "### Contact: fjgreco@us.ibm.com"
   ]
  },
  {
   "cell_type": "markdown",
   "metadata": {},
   "source": [
    "#### <font color=red>Optional installation of ibm-cos-sdk</font>"
   ]
  },
  {
   "cell_type": "raw",
   "metadata": {},
   "source": [
    "# Convert to code from RawNBConvert and run once if needed\n",
    "!pip install ibm-cos-sdk"
   ]
  },
  {
   "cell_type": "markdown",
   "metadata": {},
   "source": [
    "### Run the following if in CP4D"
   ]
  },
  {
   "cell_type": "raw",
   "metadata": {},
   "source": [
    "from project_lib import Project\n",
    "project = Project.access()\n",
    "storage_credentials = project.get_storage_metadata()"
   ]
  },
  {
   "cell_type": "markdown",
   "metadata": {},
   "source": [
    "### Import packages"
   ]
  },
  {
   "cell_type": "code",
   "execution_count": 1,
   "metadata": {},
   "outputs": [],
   "source": [
    "import sys\n",
    "sys.path.append('.')\n",
    "\n",
    "import ICOS as ICOS"
   ]
  },
  {
   "cell_type": "code",
   "execution_count": 2,
   "metadata": {},
   "outputs": [],
   "source": [
    "import json\n",
    "import string \n",
    "import random\n",
    "import pandas as pd\n",
    "import numpy as np"
   ]
  },
  {
   "cell_type": "markdown",
   "metadata": {},
   "source": [
    "### Build gene sequence feature and label lists"
   ]
  },
  {
   "cell_type": "code",
   "execution_count": 3,
   "metadata": {},
   "outputs": [],
   "source": [
    "def build_assay_data(numseq=200, seqlen=50,motif='CGACCGAACTCC'):\n",
    "    len_motif=len(motif)\n",
    "    limit=seqlen-len_motif\n",
    "    binary_choice= range(2)\n",
    "\n",
    "    seqf=[]\n",
    "    labf=[]\n",
    "    #locf=[]\n",
    "    \n",
    "    num_insertions=0\n",
    "\n",
    "    for i in range(numseq):\n",
    "\n",
    "        seqx = ''.join(random.choices('ATGC' , k = seqlen)) \n",
    "        bind=random.choice(binary_choice)\n",
    "        if bind==1:\n",
    "            index=random.randrange(1,limit)\n",
    "            seqx = seqx[:index] + motif + seqx[index + len_motif:]\n",
    "            num_insertions+=1\n",
    "        else: \n",
    "            bind=0\n",
    "            index=0\n",
    "        #print(seqx,bind)\n",
    "        seqf.append(seqx)\n",
    "        labf.append(bind)\n",
    "        #locf.append(index)\n",
    "        \n",
    "    print(\"numseq:\",numseq,\"seqlen:\",seqlen,\"number insertions:\",num_insertions)\n",
    "    \n",
    "    return seqf,labf\n"
   ]
  },
  {
   "cell_type": "markdown",
   "metadata": {},
   "source": [
    "### Save assay data"
   ]
  },
  {
   "cell_type": "code",
   "execution_count": 4,
   "metadata": {},
   "outputs": [],
   "source": [
    "def save_assay_data(sequences,sequence_fn, labels, label_fn):\n",
    "    print (\"Saving file: {}\".format(sequence_fn))\n",
    "    fd=open(sequence_fn,'w')\n",
    "    for element in sequences:\n",
    "         fd.write(element)\n",
    "         fd.write('\\n')\n",
    "    fd.close() \n",
    "\n",
    "    print (\"Saving file: {}\".format(label_fn))\n",
    "    fd=open(label_fn,'w')\n",
    "    for element in labels:\n",
    "         fd.write(str(element))\n",
    "         fd.write('\\n')\n",
    "    fd.close()"
   ]
  },
  {
   "cell_type": "markdown",
   "metadata": {},
   "source": [
    "### Build assay csv file"
   ]
  },
  {
   "cell_type": "code",
   "execution_count": 5,
   "metadata": {},
   "outputs": [],
   "source": [
    "def build_assay_csv_file(sequences,labels, csv='assay_data.csv'):\n",
    "    \n",
    "    assay_data=[]\n",
    " \n",
    "    assay_data.append(['sequence','target'])\n",
    "    for item in zip(sequences,labels):\n",
    "        assay_data.append([item[0],item[1]])\n",
    "     \n",
    "    df=None\n",
    "    \n",
    "    df=pd.DataFrame(assay_data, index=np.arange(1, len(assay_data)+1), \n",
    "                 columns=['Sequence','BindProperty']) \n",
    "\n",
    "    df.to_csv(csv, index = False,header=False)\n",
    "        \n",
    "    print(\"Saving file '{}'\".format(csv))\n",
    "    print(\"assay_data record count:\",len(assay_data))\n",
    "    \n",
    "    return df\n"
   ]
  },
  {
   "cell_type": "markdown",
   "metadata": {},
   "source": [
    "### Assay data file reader"
   ]
  },
  {
   "cell_type": "code",
   "execution_count": 6,
   "metadata": {},
   "outputs": [],
   "source": [
    "def read_assay_data_file(csvfile,splitfile=True):\n",
    "    \n",
    "    sequences=[]\n",
    "    labels=[]\n",
    "    f = open(csvfile, \"r\")\n",
    "    for x in f:\n",
    "      item=x.strip('\\n').split(',')  \n",
    "      sequences.append(item[0])\n",
    "      labels.append(int(item[1]))\n",
    "    \n",
    "    if splitfile:\n",
    "        prefix=csvfile.split('.')[0]\n",
    "        \n",
    "        sequence_fn=prefix+'.seq'\n",
    "        label_fn=prefix+'.lbl'\n",
    "        \n",
    "        print (\"Saving file: {}\".format(sequence_fn))\n",
    "        fd=open(sequence_fn,'w')\n",
    "        for element in sequences:\n",
    "             fd.write(element)\n",
    "             fd.write('\\n')\n",
    "        fd.close() \n",
    "        \n",
    "        print (\"Saving file: {}\".format(label_fn))\n",
    "        fd=open(label_fn,'w')\n",
    "        for element in labels:\n",
    "             fd.write(str(element))\n",
    "             fd.write('\\n')\n",
    "        fd.close()\n",
    "        \n",
    "    return sequences, labels"
   ]
  },
  {
   "cell_type": "markdown",
   "metadata": {},
   "source": [
    "# Build files..."
   ]
  },
  {
   "cell_type": "markdown",
   "metadata": {},
   "source": [
    "### <font color=blue>The parameter values specified below must be carried through to the downstream build and training noteboooks. </font>"
   ]
  },
  {
   "cell_type": "code",
   "execution_count": 7,
   "metadata": {},
   "outputs": [],
   "source": [
    "numseq=200\n",
    "seqlen=50      \n",
    "motif='CGACCGAACTCC'   \n",
    "local_dir='./DATA_DIR'\n",
    "\n",
    "sequence_file='/assay_data_full.seq'\n",
    "label_file='/assay_data_full.lbl'\n",
    "csv_file='/assay_data_full.csv'"
   ]
  },
  {
   "cell_type": "code",
   "execution_count": 8,
   "metadata": {},
   "outputs": [],
   "source": [
    "#option- run if needed\n",
    "!mkdir DATA_DIR"
   ]
  },
  {
   "cell_type": "code",
   "execution_count": 9,
   "metadata": {},
   "outputs": [
    {
     "name": "stdout",
     "output_type": "stream",
     "text": [
      "numseq: 200 seqlen: 50 number insertions: 111\n",
      "Saving file: ./DATA_DIR/assay_data_full.seq\n",
      "Saving file: ./DATA_DIR/assay_data_full.lbl\n",
      "Saving file './DATA_DIR/assay_data_full.csv'\n",
      "assay_data record count: 201\n"
     ]
    },
    {
     "data": {
      "text/html": [
       "<div>\n",
       "<style scoped>\n",
       "    .dataframe tbody tr th:only-of-type {\n",
       "        vertical-align: middle;\n",
       "    }\n",
       "\n",
       "    .dataframe tbody tr th {\n",
       "        vertical-align: top;\n",
       "    }\n",
       "\n",
       "    .dataframe thead th {\n",
       "        text-align: right;\n",
       "    }\n",
       "</style>\n",
       "<table border=\"1\" class=\"dataframe\">\n",
       "  <thead>\n",
       "    <tr style=\"text-align: right;\">\n",
       "      <th></th>\n",
       "      <th>Sequence</th>\n",
       "      <th>BindProperty</th>\n",
       "    </tr>\n",
       "  </thead>\n",
       "  <tbody>\n",
       "    <tr>\n",
       "      <th>1</th>\n",
       "      <td>sequence</td>\n",
       "      <td>target</td>\n",
       "    </tr>\n",
       "    <tr>\n",
       "      <th>2</th>\n",
       "      <td>CGAGCCAATCATTCCGGATAGGTCGGAATTGGGCCCGTTTTTGCGA...</td>\n",
       "      <td>0</td>\n",
       "    </tr>\n",
       "    <tr>\n",
       "      <th>3</th>\n",
       "      <td>CCGAAAGGGGCTCTAAGCAGATAATTCGGCGGGTGGATCGTTACAT...</td>\n",
       "      <td>0</td>\n",
       "    </tr>\n",
       "    <tr>\n",
       "      <th>4</th>\n",
       "      <td>GCATGTCGGCTCCGGTTTGGATCTACCTCTCACATACTGCGGGTGC...</td>\n",
       "      <td>0</td>\n",
       "    </tr>\n",
       "    <tr>\n",
       "      <th>5</th>\n",
       "      <td>CAACAATATGTCTCACGACCGAACTCCACAAAGAAGGCTGCGTGCG...</td>\n",
       "      <td>1</td>\n",
       "    </tr>\n",
       "    <tr>\n",
       "      <th>...</th>\n",
       "      <td>...</td>\n",
       "      <td>...</td>\n",
       "    </tr>\n",
       "    <tr>\n",
       "      <th>197</th>\n",
       "      <td>AAAGTCGTTTGTGACTAGTTGTTCCCGCAGTTCGGCGCGGCTAAAA...</td>\n",
       "      <td>0</td>\n",
       "    </tr>\n",
       "    <tr>\n",
       "      <th>198</th>\n",
       "      <td>CGGTGTGTGAAAACCGATCCCCTTGCTCAAGTCCATCGAGTTGGGG...</td>\n",
       "      <td>0</td>\n",
       "    </tr>\n",
       "    <tr>\n",
       "      <th>199</th>\n",
       "      <td>GAATCTACTCTTAAAACGCCCCCCAGGGACGAGGGCCACTTCTAGA...</td>\n",
       "      <td>0</td>\n",
       "    </tr>\n",
       "    <tr>\n",
       "      <th>200</th>\n",
       "      <td>CGGCCCAGCGACTGCGTCACCGGTATTGAAATTTCTATAGTTACAC...</td>\n",
       "      <td>0</td>\n",
       "    </tr>\n",
       "    <tr>\n",
       "      <th>201</th>\n",
       "      <td>AGGATTAATACTTCAGCGACCGAACTCCAACATGGACTTTTGCAAG...</td>\n",
       "      <td>1</td>\n",
       "    </tr>\n",
       "  </tbody>\n",
       "</table>\n",
       "<p>201 rows × 2 columns</p>\n",
       "</div>"
      ],
      "text/plain": [
       "                                              Sequence BindProperty\n",
       "1                                             sequence       target\n",
       "2    CGAGCCAATCATTCCGGATAGGTCGGAATTGGGCCCGTTTTTGCGA...            0\n",
       "3    CCGAAAGGGGCTCTAAGCAGATAATTCGGCGGGTGGATCGTTACAT...            0\n",
       "4    GCATGTCGGCTCCGGTTTGGATCTACCTCTCACATACTGCGGGTGC...            0\n",
       "5    CAACAATATGTCTCACGACCGAACTCCACAAAGAAGGCTGCGTGCG...            1\n",
       "..                                                 ...          ...\n",
       "197  AAAGTCGTTTGTGACTAGTTGTTCCCGCAGTTCGGCGCGGCTAAAA...            0\n",
       "198  CGGTGTGTGAAAACCGATCCCCTTGCTCAAGTCCATCGAGTTGGGG...            0\n",
       "199  GAATCTACTCTTAAAACGCCCCCCAGGGACGAGGGCCACTTCTAGA...            0\n",
       "200  CGGCCCAGCGACTGCGTCACCGGTATTGAAATTTCTATAGTTACAC...            0\n",
       "201  AGGATTAATACTTCAGCGACCGAACTCCAACATGGACTTTTGCAAG...            1\n",
       "\n",
       "[201 rows x 2 columns]"
      ]
     },
     "execution_count": 9,
     "metadata": {},
     "output_type": "execute_result"
    }
   ],
   "source": [
    "local_sequence_file=local_dir+sequence_file\n",
    "local_label_file=local_dir+label_file\n",
    "local_csv_file=local_dir+csv_file\n",
    "\n",
    "sequences, labels = build_assay_data(numseq=numseq,seqlen=seqlen,motif=motif)\n",
    "save_assay_data(sequences,local_sequence_file,labels,local_label_file)\n",
    "build_assay_csv_file(sequences,labels,csv=local_csv_file)"
   ]
  },
  {
   "cell_type": "markdown",
   "metadata": {},
   "source": [
    "## Review list of created assets"
   ]
  },
  {
   "cell_type": "code",
   "execution_count": 10,
   "metadata": {},
   "outputs": [
    {
     "name": "stdout",
     "output_type": "stream",
     "text": [
      "/Users/fjgreco/GitHub/E2EAI-public/Code\n",
      "total 56\n",
      "drwxr-xr-x   5 fjgreco  staff    160 Jun  6 21:25 \u001b[34m.\u001b[m\u001b[m\n",
      "drwxr-xr-x  14 fjgreco  staff    448 Jun  6 21:25 \u001b[34m..\u001b[m\u001b[m\n",
      "-rw-r--r--   1 fjgreco  staff  10616 Jun  6 21:25 assay_data_full.csv\n",
      "-rw-r--r--   1 fjgreco  staff    400 Jun  6 21:25 assay_data_full.lbl\n",
      "-rw-r--r--   1 fjgreco  staff  10200 Jun  6 21:25 assay_data_full.seq\n"
     ]
    }
   ],
   "source": [
    "!pwd\n",
    "!ls -al DATA_DIR"
   ]
  },
  {
   "cell_type": "markdown",
   "metadata": {},
   "source": [
    "## Save assets in ICOS"
   ]
  },
  {
   "cell_type": "code",
   "execution_count": 11,
   "metadata": {},
   "outputs": [],
   "source": [
    "with open(\"e2eai_credentials.json\") as json_file:\n",
    "    credentials = json.load(json_file)\n",
    "\n",
    "icos_credentials=credentials['icos_credentials_e2eai']\n"
   ]
  },
  {
   "cell_type": "markdown",
   "metadata": {},
   "source": [
    "### Connect to ICOS"
   ]
  },
  {
   "cell_type": "code",
   "execution_count": 12,
   "metadata": {},
   "outputs": [],
   "source": [
    "icos=ICOS.ICOS(icos_credentials=icos_credentials)"
   ]
  },
  {
   "cell_type": "markdown",
   "metadata": {},
   "source": [
    "### <font color=blue>Specify a bucket name in your ICOS instance The name must be unique across the IBMCloud system</font>\n",
    "\n",
    "<font color=red>Both the bucket and folder names are used in the build, training, and analysis notebooks.</font>"
   ]
  },
  {
   "cell_type": "code",
   "execution_count": 13,
   "metadata": {},
   "outputs": [],
   "source": [
    "bucket='e2eai-training' # <== Make this unique to your experimental training run.  \n",
    "folder='assay' # <== This is the default folder name use in subsequent notebooks. "
   ]
  },
  {
   "cell_type": "code",
   "execution_count": 14,
   "metadata": {},
   "outputs": [
    {
     "name": "stdout",
     "output_type": "stream",
     "text": [
      "<class 'Exception'> An error occurred (BucketAlreadyExists) when calling the CreateBucket operation: The requested bucket name is not available. The bucket namespace is shared by all users of the system. Please select a different name and try again.\n"
     ]
    }
   ],
   "source": [
    "icos.create_bucket(bucket)"
   ]
  },
  {
   "cell_type": "markdown",
   "metadata": {},
   "source": [
    "#### <font color=red>If you receive a BucketAlreadyExists exception message, you may still proceed assuming the bucket exists in your ICOS instance.</font>"
   ]
  },
  {
   "cell_type": "code",
   "execution_count": 15,
   "metadata": {},
   "outputs": [
    {
     "name": "stdout",
     "output_type": "stream",
     "text": [
      "File Uploaded\n"
     ]
    }
   ],
   "source": [
    "icos.upload_file(bucket,local_csv_file,folder+csv_file)"
   ]
  },
  {
   "cell_type": "code",
   "execution_count": 16,
   "metadata": {},
   "outputs": [
    {
     "name": "stdout",
     "output_type": "stream",
     "text": [
      "File Uploaded\n"
     ]
    }
   ],
   "source": [
    "icos.upload_file(bucket,local_label_file,folder+label_file)"
   ]
  },
  {
   "cell_type": "code",
   "execution_count": 17,
   "metadata": {},
   "outputs": [
    {
     "name": "stdout",
     "output_type": "stream",
     "text": [
      "File Uploaded\n"
     ]
    }
   ],
   "source": [
    "icos.upload_file(bucket,local_sequence_file,folder+sequence_file)"
   ]
  },
  {
   "cell_type": "markdown",
   "metadata": {},
   "source": [
    "##  <font color=green>Proceed to running e2eai-bioinformatics-neural_network_build(tutorial).ipynb...</font>"
   ]
  },
  {
   "cell_type": "code",
   "execution_count": null,
   "metadata": {},
   "outputs": [],
   "source": []
  }
 ],
 "metadata": {
  "kernelspec": {
   "display_name": "Python 3",
   "language": "python",
   "name": "python3"
  },
  "language_info": {
   "codemirror_mode": {
    "name": "ipython",
    "version": 3
   },
   "file_extension": ".py",
   "mimetype": "text/x-python",
   "name": "python",
   "nbconvert_exporter": "python",
   "pygments_lexer": "ipython3",
   "version": "3.7.4"
  }
 },
 "nbformat": 4,
 "nbformat_minor": 2
}
