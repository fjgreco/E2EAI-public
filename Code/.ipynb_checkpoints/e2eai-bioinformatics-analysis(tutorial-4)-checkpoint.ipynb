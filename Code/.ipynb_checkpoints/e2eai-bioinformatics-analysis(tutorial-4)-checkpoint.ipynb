{
 "cells": [
  {
   "cell_type": "raw",
   "metadata": {},
   "source": [
    "MIT License\n",
    "\n",
    "Copyright (c) 2021 F.J. Greco\n",
    "\n",
    "Permission is hereby granted, free of charge, to any person obtaining a copy\n",
    "of this software and associated documentation files (the \"Software\"), to deal\n",
    "in the Software without restriction, including without limitation the rights\n",
    "to use, copy, modify, merge, publish, distribute, sublicense, and/or sell\n",
    "copies of the Software, and to permit persons to whom the Software is\n",
    "furnished to do so, subject to the following conditions:\n",
    "\n",
    "The above copyright notice and this permission notice shall be included in all\n",
    "copies or substantial portions of the Software.\n",
    "\n",
    "THE SOFTWARE IS PROVIDED \"AS IS\", WITHOUT WARRANTY OF ANY KIND, EXPRESS OR\n",
    "IMPLIED, INCLUDING BUT NOT LIMITED TO THE WARRANTIES OF MERCHANTABILITY,\n",
    "FITNESS FOR A PARTICULAR PURPOSE AND NONINFRINGEMENT. IN NO EVENT SHALL THE\n",
    "AUTHORS OR COPYRIGHT HOLDERS BE LIABLE FOR ANY CLAIM, DAMAGES OR OTHER\n",
    "LIABILITY, WHETHER IN AN ACTION OF CONTRACT, TORT OR OTHERWISE, ARISING FROM,\n",
    "OUT OF OR IN CONNECTION WITH THE SOFTWARE OR THE USE OR OTHER DEALINGS IN THE\n",
    "SOFTWARE."
   ]
  },
  {
   "cell_type": "markdown",
   "metadata": {},
   "source": [
    "# Bioinformatics Modeling \n",
    "\n",
    "## Post-training Analysis - tutorial 4\n",
    "\n",
    "Basic example of post-training analysis\n",
    "\n",
    "Excludes manifest processing and catalog interaction \n",
    "\n",
    "## Pre-requisites:\n",
    "\n",
    "Access to an IBM Cloud Object Storage instance\n",
    "\n",
    "The e2eai_credentials.json file (included in the repo clone) in your local directory updated with credentials for the cloud object storage instance\n",
    "\n",
    "A copy of ICOS.py (included in the repo clone) in the local directory\n",
    "\n",
    "The ibm-cos-sdk python package installed in your python execution environment. space\n",
    "\n",
    "\n",
    "### Contact: fjgreco@us.ibm.com"
   ]
  },
  {
   "cell_type": "markdown",
   "metadata": {},
   "source": [
    "#### <font color=red>Optional installation of ibm-cos-sdk</font>"
   ]
  },
  {
   "cell_type": "code",
   "execution_count": 1,
   "metadata": {},
   "outputs": [
    {
     "name": "stdout",
     "output_type": "stream",
     "text": [
      "Requirement already satisfied: ibm-cos-sdk in /Library/Frameworks/Python.framework/Versions/3.7/lib/python3.7/site-packages (2.7.0)\n",
      "Requirement already satisfied: ibm-cos-sdk-core==2.7.0 in /Library/Frameworks/Python.framework/Versions/3.7/lib/python3.7/site-packages (from ibm-cos-sdk) (2.7.0)\n",
      "Requirement already satisfied: jmespath<1.0.0,>=0.7.1 in /Library/Frameworks/Python.framework/Versions/3.7/lib/python3.7/site-packages (from ibm-cos-sdk) (0.9.4)\n",
      "Requirement already satisfied: ibm-cos-sdk-s3transfer==2.7.0 in /Library/Frameworks/Python.framework/Versions/3.7/lib/python3.7/site-packages (from ibm-cos-sdk) (2.7.0)\n",
      "Requirement already satisfied: docutils<0.16,>=0.10 in /Library/Frameworks/Python.framework/Versions/3.7/lib/python3.7/site-packages (from ibm-cos-sdk-core==2.7.0->ibm-cos-sdk) (0.15.2)\n",
      "Requirement already satisfied: requests<3.0,>=2.18 in /Library/Frameworks/Python.framework/Versions/3.7/lib/python3.7/site-packages (from ibm-cos-sdk-core==2.7.0->ibm-cos-sdk) (2.22.0)\n",
      "Requirement already satisfied: python-dateutil<3.0.0,>=2.1 in /Library/Frameworks/Python.framework/Versions/3.7/lib/python3.7/site-packages (from ibm-cos-sdk-core==2.7.0->ibm-cos-sdk) (2.8.0)\n",
      "Requirement already satisfied: six>=1.5 in /Library/Frameworks/Python.framework/Versions/3.7/lib/python3.7/site-packages (from python-dateutil<3.0.0,>=2.1->ibm-cos-sdk-core==2.7.0->ibm-cos-sdk) (1.12.0)\n",
      "Requirement already satisfied: certifi>=2017.4.17 in /Library/Frameworks/Python.framework/Versions/3.7/lib/python3.7/site-packages (from requests<3.0,>=2.18->ibm-cos-sdk-core==2.7.0->ibm-cos-sdk) (2020.12.5)\n",
      "Requirement already satisfied: urllib3!=1.25.0,!=1.25.1,<1.26,>=1.21.1 in /Library/Frameworks/Python.framework/Versions/3.7/lib/python3.7/site-packages (from requests<3.0,>=2.18->ibm-cos-sdk-core==2.7.0->ibm-cos-sdk) (1.24.3)\n",
      "Requirement already satisfied: idna<2.9,>=2.5 in /Library/Frameworks/Python.framework/Versions/3.7/lib/python3.7/site-packages (from requests<3.0,>=2.18->ibm-cos-sdk-core==2.7.0->ibm-cos-sdk) (2.8)\n",
      "Requirement already satisfied: chardet<3.1.0,>=3.0.2 in /Library/Frameworks/Python.framework/Versions/3.7/lib/python3.7/site-packages (from requests<3.0,>=2.18->ibm-cos-sdk-core==2.7.0->ibm-cos-sdk) (3.0.4)\n"
     ]
    }
   ],
   "source": [
    "# Convert to code from RawNBConvert and run once if needed\n",
    "!pip install ibm-cos-sdk"
   ]
  },
  {
   "cell_type": "markdown",
   "metadata": {},
   "source": [
    "### Run the following if in CP4D"
   ]
  },
  {
   "cell_type": "raw",
   "metadata": {},
   "source": [
    "from project_lib import Project\n",
    "project = Project.access()\n",
    "storage_credentials = project.get_storage_metadata()"
   ]
  },
  {
   "cell_type": "markdown",
   "metadata": {},
   "source": [
    "### Import packages"
   ]
  },
  {
   "cell_type": "code",
   "execution_count": 2,
   "metadata": {},
   "outputs": [],
   "source": [
    "import sys\n",
    "sys.path.append('.')\n",
    "\n",
    "import json\n",
    "from ICOS import ICOS as ICOS"
   ]
  },
  {
   "cell_type": "markdown",
   "metadata": {},
   "source": [
    "### Obtain access credentials"
   ]
  },
  {
   "cell_type": "code",
   "execution_count": 3,
   "metadata": {},
   "outputs": [],
   "source": [
    "with open(\"e2eai_credentials.json\") as json_file:\n",
    "    credentials = json.load(json_file)\n",
    "\n",
    "icos_credentials=credentials['icos_credentials_e2eai']\n"
   ]
  },
  {
   "cell_type": "markdown",
   "metadata": {},
   "source": [
    "### Read manifest file\n",
    "\n",
    "<font color=red>Manifest file handling turned off for tutorial simolification</font>"
   ]
  },
  {
   "cell_type": "raw",
   "metadata": {},
   "source": [
    "with open(\"manifest.json\") as json_file:\n",
    "    manifest = json.load(json_file)\n",
    "    #zip_file = manifest['manifest']['zip_file']\n",
    "    #git_url =  manifest['manifest']['git_url']\n",
    "    #neural_network_pgm =  manifest['manifest']['neural_network_pgm']\n",
    "    #training_definition_name =  manifest['manifest']['training_definition_name']\n",
    "    #training_run_name =  manifest['manifest']['training_run_name']\n",
    "    #trained_model_name =  manifest['manifest']['trained_model_name']\n",
    "    #compressed_recompiled_model =  manifest['manifest']['compressed_recompiled_model'] \n",
    "    #recompiled_model_h5 =  manifest['manifest']['recompiled_model_h5']\n",
    "    #deployment_name  =  manifest['manifest']['deployment_name'] \n",
    "    #training_bucket =  manifest['manifest']['training_bucket'] \n",
    "    results_bucket  =  manifest['manifest']['results_bucket'] \n",
    "    model_location =  manifest['manifest']['model_location'] \n",
    "        "
   ]
  },
  {
   "cell_type": "markdown",
   "metadata": {},
   "source": [
    "###  <font color=blue> Set the following two variables:</font>"
   ]
  },
  {
   "cell_type": "code",
   "execution_count": 4,
   "metadata": {},
   "outputs": [],
   "source": [
    "model_location='training-ixApffeMR'   # Obtained from the training run\n",
    "\n",
    "results_bucket='e2eai-results-060621'  #Obtained from training run"
   ]
  },
  {
   "cell_type": "markdown",
   "metadata": {},
   "source": [
    "## Access ICOS"
   ]
  },
  {
   "cell_type": "markdown",
   "metadata": {},
   "source": [
    "## Retrieve training artifacts from ICOS\n",
    "### model.h5, model.tgz, model.json, and model_weights.h5 were placed in ICOS by the keras python program"
   ]
  },
  {
   "cell_type": "code",
   "execution_count": 5,
   "metadata": {},
   "outputs": [],
   "source": [
    "icos=ICOS(icos_credentials=icos_credentials)"
   ]
  },
  {
   "cell_type": "code",
   "execution_count": 6,
   "metadata": {},
   "outputs": [
    {
     "name": "stdout",
     "output_type": "stream",
     "text": [
      "Retrieving bucket contents from: e2eai-results-060621\n",
      "\n",
      "7a076f73-424f-4fb0-aad4-32e2ad023d73/assets/7a076f73-424f-4fb0-aad4-32e2ad023d73/resources/wml_model/request.json\n",
      "7a076f73-424f-4fb0-aad4-32e2ad023d73/assets/7a076f73-424f-4fb0-aad4-32e2ad023d73/resources/wml_model/training-j5ADjf6Gg.zip\n",
      "7a076f73-424f-4fb0-aad4-32e2ad023d73/training-status.json\n",
      "_wml_checkpoints/\n",
      "b087df29-a85d-4076-ba32-dd9d45bc584a/assets/b087df29-a85d-4076-ba32-dd9d45bc584a/resources/wml_model/request.json\n",
      "b087df29-a85d-4076-ba32-dd9d45bc584a/assets/b087df29-a85d-4076-ba32-dd9d45bc584a/resources/wml_model/training-ixApffeMR.zip\n",
      "b087df29-a85d-4076-ba32-dd9d45bc584a/training-status.json\n",
      "de13e24d-5930-4b60-8776-48daa68a2311/training-status.json\n",
      "training-ixApffeMR/_submitted_code/model.zip\n",
      "training-ixApffeMR/bioinformatics_model.h5\n",
      "training-ixApffeMR/bioinformatics_model.json\n",
      "training-ixApffeMR/bioinformatics_model.tgz\n",
      "training-ixApffeMR/bioinformatics_model_cm.p\n",
      "training-ixApffeMR/bioinformatics_model_history.p\n",
      "training-ixApffeMR/bioinformatics_model_weights.h5\n",
      "training-ixApffeMR/learner-1/\n",
      "training-ixApffeMR/learner-1/.log-copy-complete\n",
      "training-ixApffeMR/learner-1/training-log.txt\n",
      "training-ixApffeMR/training-log.txt\n",
      "training-j5ADjf6Gg/_submitted_code/model.zip\n",
      "training-j5ADjf6Gg/bioinformatics_model.h5\n",
      "training-j5ADjf6Gg/bioinformatics_model.json\n",
      "training-j5ADjf6Gg/bioinformatics_model.tgz\n",
      "training-j5ADjf6Gg/bioinformatics_model_cm.p\n",
      "training-j5ADjf6Gg/bioinformatics_model_history.p\n",
      "training-j5ADjf6Gg/bioinformatics_model_weights.h5\n",
      "training-j5ADjf6Gg/learner-1/\n",
      "training-j5ADjf6Gg/learner-1/.log-copy-complete\n",
      "training-j5ADjf6Gg/learner-1/training-log.txt\n",
      "training-j5ADjf6Gg/training-log.txt\n"
     ]
    }
   ],
   "source": [
    "icos.list_objects(results_bucket)"
   ]
  },
  {
   "cell_type": "code",
   "execution_count": 7,
   "metadata": {},
   "outputs": [
    {
     "name": "stdout",
     "output_type": "stream",
     "text": [
      "Saving results to RESULT_DIR...\n",
      "Retrieving relevant bucket contents from: e2eai-results-060621 Model_location: training-ixApffeMR\n",
      "\n",
      "training-ixApffeMR/bioinformatics_model.h5\n",
      "training-ixApffeMR/bioinformatics_model.json\n",
      "training-ixApffeMR/bioinformatics_model.tgz\n",
      "training-ixApffeMR/bioinformatics_model_cm.p\n",
      "training-ixApffeMR/bioinformatics_model_history.p\n",
      "training-ixApffeMR/bioinformatics_model_weights.h5\n",
      "training-ixApffeMR/training-log.txt\n"
     ]
    }
   ],
   "source": [
    "local_results_dir='RESULT_DIR'\n",
    "print('Saving results to {}...'.format(local_results_dir))\n",
    "dl2=icos.get_download_list_loc(results_bucket, model_location,results_folder=local_results_dir)"
   ]
  },
  {
   "cell_type": "markdown",
   "metadata": {},
   "source": [
    "## Review results produced during training"
   ]
  },
  {
   "cell_type": "markdown",
   "metadata": {},
   "source": [
    "### Extract and view accuracy and loss graphs"
   ]
  },
  {
   "cell_type": "code",
   "execution_count": 8,
   "metadata": {},
   "outputs": [
    {
     "data": {
      "image/png": "[encoded data removed]",
      "text/plain": [
       "<Figure size 432x288 with 1 Axes>"
      ]
     },
     "metadata": {},
     "output_type": "display_data"
    },
    {
     "data": {
      "image/png": "[encoded data removed]",
      "text/plain": [
       "<Figure size 432x288 with 1 Axes>"
      ]
     },
     "metadata": {},
     "output_type": "display_data"
    }
   ],
   "source": [
    "import pickle\n",
    "with open(local_results_dir+'/bioinformatics_model_history.p', 'rb') as p_file:\n",
    "    history = pickle.load(p_file)\n",
    "\n",
    "import matplotlib.pyplot as plt\n",
    "%matplotlib inline\n",
    "\n",
    "plt.figure()\n",
    "plt.plot(history['loss'])\n",
    "plt.plot(history['val_loss'])\n",
    "plt.title('model loss')\n",
    "plt.ylabel('loss')\n",
    "plt.xlabel('epoch')\n",
    "plt.legend(['train', 'validation'])\n",
    "\n",
    "plt.savefig(local_results_dir+'/bioinformatics_model_loss.png')\n",
    "plt.savefig(local_results_dir+'/bioinformatics_model_loss.pdf')\n",
    "plt.show()\n",
    "\n",
    "\n",
    "plt.figure()\n",
    "plt.plot(history['binary_accuracy'])\n",
    "plt.plot(history['val_binary_accuracy'])\n",
    "plt.title('model accuracy')\n",
    "plt.ylabel('accuracy')\n",
    "plt.xlabel('epoch')\n",
    "plt.legend(['train', 'validation'])\n",
    "plt.savefig(local_results_dir+'/bioinformatics_model_accuracy.png')\n",
    "plt.savefig(local_results_dir+'/bioinformatics_model_accuracy.pdf')\n",
    "plt.show()"
   ]
  },
  {
   "cell_type": "markdown",
   "metadata": {},
   "source": [
    "### Extract and view a confusion matrix"
   ]
  },
  {
   "cell_type": "code",
   "execution_count": 9,
   "metadata": {},
   "outputs": [
    {
     "name": "stderr",
     "output_type": "stream",
     "text": [
      "/Library/Frameworks/Python.framework/Versions/3.6/lib/python3.6/site-packages/matplotlib/cbook/__init__.py:424: MatplotlibDeprecationWarning: \n",
      "Passing one of 'on', 'true', 'off', 'false' as a boolean is deprecated; use an actual boolean (True/False) instead.\n",
      "  warn_deprecated(\"2.2\", \"Passing one of 'on', 'true', 'off', 'false' as a \"\n"
     ]
    },
    {
     "data": {
      "image/png": "[encoded data removed]",
      "text/plain": [
       "<Figure size 432x288 with 2 Axes>"
      ]
     },
     "metadata": {},
     "output_type": "display_data"
    }
   ],
   "source": [
    "import itertools\n",
    "\n",
    "with open(local_results_dir+'/bioinformatics_model_cm.p', 'rb') as p_file:\n",
    "    cm = pickle.load(p_file)\n",
    "\n",
    "plt.imshow(cm, cmap=plt.cm.Blues)\n",
    "plt.title('Normalized confusion matrix')\n",
    "plt.colorbar()\n",
    "plt.xlabel('True label')\n",
    "plt.ylabel('Predicted label')\n",
    "plt.xticks([0, 1]); plt.yticks([0, 1])\n",
    "plt.grid('off')\n",
    "for i, j in itertools.product(range(cm.shape[0]), range(cm.shape[1])):\n",
    "    plt.text(j, i, format(cm[i, j], '.2f'),\n",
    "             horizontalalignment='center',\n",
    "             color='white' if cm[i, j] > 0.5 else 'black')\n",
    "\n",
    "plt.savefig(local_results_dir+'/bioinformatics_model_confusion_matrix.png')\n",
    "\n",
    "plt.show()"
   ]
  },
  {
   "cell_type": "markdown",
   "metadata": {},
   "source": [
    "### Produce accuracy and loss graphs"
   ]
  },
  {
   "cell_type": "markdown",
   "metadata": {},
   "source": [
    "## Compile model locally"
   ]
  },
  {
   "cell_type": "code",
   "execution_count": 10,
   "metadata": {},
   "outputs": [],
   "source": [
    "from tensorflow.keras.models import model_from_json,load_model"
   ]
  },
  {
   "cell_type": "markdown",
   "metadata": {},
   "source": [
    "### Approach 1 - Compile model locally using full .h5 file"
   ]
  },
  {
   "cell_type": "code",
   "execution_count": 11,
   "metadata": {},
   "outputs": [
    {
     "name": "stdout",
     "output_type": "stream",
     "text": [
      "WARNING:tensorflow:From /Library/Frameworks/Python.framework/Versions/3.6/lib/python3.6/site-packages/tensorflow_core/python/ops/resource_variable_ops.py:1630: calling BaseResourceVariable.__init__ (from tensorflow.python.ops.resource_variable_ops) with constraint is deprecated and will be removed in a future version.\n",
      "Instructions for updating:\n",
      "If using Keras pass *_constraint arguments to layers.\n"
     ]
    }
   ],
   "source": [
    "loaded_model = load_model(local_results_dir+\"/bioinformatics_model.h5\", compile=False)\n",
    "#sgd = SGD(lr=1e-3, decay=1e-6, momentum=0.9, nesterov=True)\n",
    "loaded_model.compile(loss='categorical_crossentropy',optimizer='adam',metrics=['accuracy'])"
   ]
  },
  {
   "cell_type": "markdown",
   "metadata": {},
   "source": [
    "### Approach 2: Compile model locally using weights and json"
   ]
  },
  {
   "cell_type": "raw",
   "metadata": {},
   "source": [
    "# load json and create model\n",
    "with open('bioinformatics_model.json', 'r') as json_file:\n",
    "    loaded_model_json = json_file.read()\n",
    "    \n",
    "loaded_model = model_from_json(loaded_model_json)\n",
    "\n",
    "# load weights into new model\n",
    "loaded_model.load_weights(\"bioinformatics_model_weights.h5\")\n",
    "print(\"Loaded model from disk\")\n",
    "\n",
    "# Complile loaded model\n",
    "loaded_model.compile(loss='binary_crossentropy', optimizer='adam', metrics=['accuracy'])\n",
    "print(\"Compiled loaded model\")"
   ]
  },
  {
   "cell_type": "markdown",
   "metadata": {},
   "source": [
    "## Generate/Access test data"
   ]
  },
  {
   "cell_type": "markdown",
   "metadata": {},
   "source": [
    "### Score loaded model\n",
    "\n",
    "#### <font color=red>For demonstration purposes here, we use the same dataset that was used for training.</font>"
   ]
  },
  {
   "cell_type": "code",
   "execution_count": 13,
   "metadata": {},
   "outputs": [
    {
     "name": "stdout",
     "output_type": "stream",
     "text": [
      "Example sequence\n",
      "-----------------------\n",
      "DNA Sequence #1:\n",
      " CGAGCCAATC ... TTGCGAGGAA\n",
      "One hot encoding of Sequence #1:\n",
      " [[0. 0. 1. ... 0. 1. 1.]\n",
      " [1. 0. 0. ... 0. 0. 0.]\n",
      " [0. 1. 0. ... 1. 0. 0.]\n",
      " [0. 0. 0. ... 0. 0. 0.]]\n",
      "Labels:\n",
      " [['0' '0' '0' ... '0' '0' '1']]\n",
      "One-hot encoded labels:\n",
      " [[1. 1. 1. ... 1. 1. 0.]\n",
      " [0. 0. 0. ... 0. 0. 1.]]\n"
     ]
    }
   ],
   "source": [
    "from sklearn.preprocessing import LabelEncoder, OneHotEncoder\n",
    "from sklearn.model_selection import train_test_split\n",
    "import numpy as np\n",
    "\n",
    "\n",
    "sequences_file='DATA_DIR/assay_data_full.seq'\n",
    "labels_file='DATA_DIR/assay_data_full.lbl'\n",
    "\n",
    "with open(sequences_file,'r') as file: \n",
    "    raw_sequences=file.read()\n",
    "\n",
    "sequences=raw_sequences.split('\\n')\n",
    "\n",
    "sequences = list(filter(None, sequences))  # This removes empty sequences.\n",
    "\n",
    "\n",
    "# The LabelEncoder encodes a sequence of bases as a sequence of integers.\n",
    "integer_encoder = LabelEncoder()  \n",
    "# The OneHotEncoder converts an array of integers to a sparse matrix where \n",
    "# each row corresponds to one possible value of each feature.\n",
    "one_hot_encoder = OneHotEncoder(categories='auto')   \n",
    "input_features = []\n",
    "\n",
    "for sequence in sequences:\n",
    "    integer_encoded = integer_encoder.fit_transform(list(sequence))\n",
    "    integer_encoded = np.array(integer_encoded).reshape(-1, 1)\n",
    "    one_hot_encoded = one_hot_encoder.fit_transform(integer_encoded)\n",
    "    input_features.append(one_hot_encoded.toarray())\n",
    "\n",
    "np.set_printoptions(threshold=40)\n",
    "input_features = np.stack(input_features)\n",
    "print(\"Example sequence\\n-----------------------\")\n",
    "print('DNA Sequence #1:\\n',sequences[0][:10],'...',sequences[0][-10:])\n",
    "print('One hot encoding of Sequence #1:\\n',input_features[0].T)\n",
    "\n",
    "\n",
    "with open(labels_file,'r') as file: \n",
    "        raw_labels=file.read()\n",
    "\n",
    "labels=raw_labels.split('\\n')\n",
    "\n",
    "labels = list(filter(None, labels))  # This removes empty sequences.\n",
    "\n",
    "one_hot_encoder_labels = OneHotEncoder(categories='auto')\n",
    "labels = np.array(labels).reshape(-1, 1)\n",
    "input_labels = one_hot_encoder_labels.fit_transform(labels).toarray()\n",
    "\n",
    "print('Labels:\\n',labels.T)\n",
    "print('One-hot encoded labels:\\n',input_labels.T)\n",
    "\n",
    "#Split into train & test files\n",
    "#train_features, test_features, train_labels, test_labels = train_test_split(\n",
    "#    input_features, input_labels, test_size=0.25, random_state=42)\n",
    "\n",
    "X=input_features\n",
    "Y=input_labels"
   ]
  },
  {
   "cell_type": "code",
   "execution_count": 14,
   "metadata": {},
   "outputs": [
    {
     "name": "stdout",
     "output_type": "stream",
     "text": [
      "200/200 [==============================] - 0s 593us/sample - loss: 8.1576e-04 - acc: 1.0000\n",
      "acc: 100.00%\n"
     ]
    }
   ],
   "source": [
    "score = loaded_model.evaluate(X, Y, verbose=1)\n",
    "print(\"%s: %.2f%%\" % (loaded_model.metrics_names[1], score[1]*100))"
   ]
  },
  {
   "cell_type": "markdown",
   "metadata": {},
   "source": [
    "### Produce a confusion matrix"
   ]
  },
  {
   "cell_type": "code",
   "execution_count": 15,
   "metadata": {
    "scrolled": false
   },
   "outputs": [
    {
     "name": "stdout",
     "output_type": "stream",
     "text": [
      "Confusion matrix:\n",
      " [[ 89   0]\n",
      " [  0 111]]\n"
     ]
    },
    {
     "name": "stderr",
     "output_type": "stream",
     "text": [
      "/Library/Frameworks/Python.framework/Versions/3.6/lib/python3.6/site-packages/matplotlib/cbook/__init__.py:424: MatplotlibDeprecationWarning: \n",
      "Passing one of 'on', 'true', 'off', 'false' as a boolean is deprecated; use an actual boolean (True/False) instead.\n",
      "  warn_deprecated(\"2.2\", \"Passing one of 'on', 'true', 'off', 'false' as a \"\n"
     ]
    },
    {
     "data": {
      "image/png": "[encoded data removed]",
      "text/plain": [
       "<Figure size 432x288 with 2 Axes>"
      ]
     },
     "metadata": {},
     "output_type": "display_data"
    }
   ],
   "source": [
    "import matplotlib.pyplot as plt\n",
    "from sklearn.metrics import confusion_matrix\n",
    "import itertools\n",
    "\n",
    "predicted_labels = loaded_model.predict(np.stack(input_features))\n",
    "cm = confusion_matrix(np.argmax(input_labels, axis=1), \n",
    "                      np.argmax(predicted_labels, axis=1))\n",
    "print('Confusion matrix:\\n',cm)\n",
    "\n",
    "cm = cm.astype('float') / cm.sum(axis = 1)[:, np.newaxis]\n",
    "\n",
    "plt.imshow(cm, cmap=plt.cm.Blues)\n",
    "plt.title('Normalized confusion matrix')\n",
    "plt.colorbar()\n",
    "plt.xlabel('True label')\n",
    "plt.ylabel('Predicted label')\n",
    "plt.xticks([0, 1]); plt.yticks([0, 1])\n",
    "plt.grid('off')\n",
    "for i, j in itertools.product(range(cm.shape[0]), range(cm.shape[1])):\n",
    "    plt.text(j, i, format(cm[i, j], '.2f'),\n",
    "             horizontalalignment='center',\n",
    "             color='white' if cm[i, j] > 0.5 else 'black')"
   ]
  },
  {
   "cell_type": "markdown",
   "metadata": {},
   "source": [
    "### Make predictions"
   ]
  },
  {
   "cell_type": "code",
   "execution_count": 16,
   "metadata": {},
   "outputs": [],
   "source": [
    "#print(one_hot_encoder.get_feature_names())\n",
    "feature_class_list=list(integer_encoder.classes_)\n",
    "\n",
    "def decode_base(encoded_base,fcl=feature_class_list):\n",
    "    return fcl[encoded_base.index(1)]       \n",
    "\n",
    "def make_predictions(model,X,Y):\n",
    "    y_predictions = model.predict_classes(X)\n",
    "    y_probabilities = model.predict_proba(X)\n",
    "    # show the inputs and predicted outputs\n",
    "    for i in range(len(X)):\n",
    "        decoded_bases=[]\n",
    "        for  encoded_base in X[i].tolist():\n",
    "            decoded_bases.append(decode_base(encoded_base))\n",
    "        decoded_bases=''.join(decoded_bases)\n",
    "        print(\"X={}, Predicted={} Probability={} Y={}\".format(decoded_bases, y_predictions[i],y_probabilities[i],Y[i][1]))\n",
    "    return y_predictions,y_probabilities"
   ]
  },
  {
   "cell_type": "markdown",
   "metadata": {},
   "source": [
    "#### <font color=red>For demonstration purposes here, we make prediction using the input features from the training data and compare the results to the known labels.</font>"
   ]
  },
  {
   "cell_type": "code",
   "execution_count": 17,
   "metadata": {},
   "outputs": [
    {
     "name": "stdout",
     "output_type": "stream",
     "text": [
      "X=CGAGCCAATCATTCCGGATAGGTCGGAATTGGGCCCGTTTTTGCGAGGAA, Predicted=0 Probability=[9.9999988e-01 1.6967657e-07] Y=0.0\n",
      "X=CCGAAAGGGGCTCTAAGCAGATAATTCGGCGGGTGGATCGTTACATTTTG, Predicted=0 Probability=[9.9999988e-01 1.7228417e-07] Y=0.0\n",
      "X=GCATGTCGGCTCCGGTTTGGATCTACCTCTCACATACTGCGGGTGCTGTT, Predicted=0 Probability=[9.9999833e-01 1.6639312e-06] Y=0.0\n",
      "X=CAACAATATGTCTCACGACCGAACTCCACAAAGAAGGCTGCGTGCGGCGT, Predicted=1 Probability=[1.1134237e-06 9.9999893e-01] Y=1.0\n",
      "X=CCTGACTATTACCGGCGGCCTAGGAAAGGTAGGGTTAGTCTCACCTCTCC, Predicted=0 Probability=[9.999995e-01 5.277809e-07] Y=0.0\n",
      "X=GCTCCGCCCGACCGAACTCCTGACATGCGTTAAATAATCTACGGATCTAA, Predicted=1 Probability=[2.5488620e-07 9.9999976e-01] Y=1.0\n",
      "X=CCAGGTATGTTAGAACTGACGGGGTAGAAAGCTGAAGCTCAGCCTCCGAC, Predicted=0 Probability=[9.999913e-01 8.676006e-06] Y=0.0\n",
      "X=TTTGTCATAGAGCCTATGCAGACCACCTGACAGGCAATACCTGTAGCACA, Predicted=0 Probability=[9.9999976e-01 1.8766441e-07] Y=0.0\n",
      "X=CGTGCTCTATAGGACGACCGAACTCCACAAAATCGGCGAAATATGTCCAT, Predicted=1 Probability=[2.8152456e-07 9.9999976e-01] Y=1.0\n",
      "X=TCGGTCTTTTCGCATGCATAGGATTATAGATACCCATATAAGCTGGGTTA, Predicted=0 Probability=[9.9999988e-01 8.8176016e-08] Y=0.0\n",
      "X=TCTTTTTCTTGGGACCGACCGAACTCCGTCATAAAGGTAGCCCGCTTTTT, Predicted=1 Probability=[2.6718598e-07 9.9999976e-01] Y=1.0\n",
      "X=GTAATAATCGTGCGCAGTTCGTATAACGGAGGACGGGACAATGACGTAGT, Predicted=0 Probability=[9.9999881e-01 1.1554224e-06] Y=0.0\n",
      "X=CCTGGCGGAACGAGTGTTCACGAACGACCGAACTCCAACGCGCCAGTGCC, Predicted=1 Probability=[1.0911277e-07 9.9999988e-01] Y=1.0\n",
      "X=GACTGGACCTGCACAGCAGGGGGAGAATCTAGGTATATAACTTTATGGTT, Predicted=0 Probability=[9.9999976e-01 2.7596354e-07] Y=0.0\n",
      "X=ACAGGCGTATGACTTCTGTTGTAGTGATGCAACAGGATAGGAACGATGGC, Predicted=0 Probability=[9.9999928e-01 6.9184597e-07] Y=0.0\n",
      "X=TATCCATTGTGTCAAATATAATGCTACGCATTCTATCGACCGAACTCCCG, Predicted=1 Probability=[2.5358293e-05 9.9997461e-01] Y=1.0\n",
      "X=GTCATGGAGTCTCGATCCCAGATTGGTTCCTTATATTGAGTCGGTAACAT, Predicted=0 Probability=[9.9999976e-01 2.2225147e-07] Y=0.0\n",
      "X=GCGACCGAACTCCTAGTAAACACGGTCCTTCACGATTCATATAATGTGCA, Predicted=1 Probability=[1.4891735e-06 9.9999857e-01] Y=1.0\n",
      "X=CCTACGACCGAACTCCGCTGGATGTAGTTATAATCACCCTGACTTGCTAG, Predicted=1 Probability=[6.0101866e-07 9.9999940e-01] Y=1.0\n",
      "X=CGTGCGCCTCTCCGACGACCGAACTCCCTGTGGTGATGCTCGGTCCTACT, Predicted=1 Probability=[1.6080734e-06 9.9999845e-01] Y=1.0\n",
      "X=GCATGCACCGGAGAAGTATAGTTCCCGACCGAACTCCTGAGCCAGCGGAG, Predicted=1 Probability=[7.288037e-07 9.999993e-01] Y=1.0\n",
      "X=ATCCGCATTGCGGGATTAGACTAACAACTGAGTGATAGCCTCAACTGCAC, Predicted=0 Probability=[9.9999845e-01 1.4951188e-06] Y=0.0\n",
      "X=AGTCACGGGCAGCTCAGGTACACTTTATCAGGCAAGCTAGACTGAGTGTC, Predicted=0 Probability=[9.9999964e-01 3.1493067e-07] Y=0.0\n",
      "X=CTCGTCGCGACAGGGGTGACGTTAGAGGGCTACGACCGAACTCCCATTTC, Predicted=1 Probability=[2.1760725e-06 9.9999785e-01] Y=1.0\n",
      "X=GGAGTTGTGGCTTGGGTCTACCACCCGTACGGCCGACCGAACTCCACGGT, Predicted=1 Probability=[3.258072e-06 9.999968e-01] Y=1.0\n",
      "X=GGTGATTCCATTCGACCGAACTCCCAATTATATTCTGGTTTTAGCCATTT, Predicted=1 Probability=[8.8963043e-07 9.9999917e-01] Y=1.0\n",
      "X=ATACCTATCATGAACTGAAGGCGTACATTGTCCCGCACGTGAACCGTCGA, Predicted=0 Probability=[9.9999845e-01 1.5802990e-06] Y=0.0\n",
      "X=TAATTAACCAGCTGCCTGAAAACGACGCATAGACAGTCAACCTAACGGTC, Predicted=0 Probability=[9.9998951e-01 1.0458666e-05] Y=0.0\n",
      "X=AGTCTGCGATGAAGCATATATTGGGACGTAGCAGGTAGGTGATCCCGCGC, Predicted=0 Probability=[9.9999952e-01 4.6519324e-07] Y=0.0\n",
      "X=TCAATCATTCACTGGACACCCAACTAACTGATAGCGTGCGTTACAGGGCG, Predicted=0 Probability=[9.999995e-01 4.286542e-07] Y=0.0\n",
      "X=TGGCTTAGAATGATCCATAGTCACTTGATTGATCCGATGGACTATCACTC, Predicted=0 Probability=[9.9997282e-01 2.7194197e-05] Y=0.0\n",
      "X=ATGGCAACAGCTTGCCCCTTCCCTAAGTATCTTCGTCCGCGCCAGAGCCC, Predicted=0 Probability=[9.9999452e-01 5.4912325e-06] Y=0.0\n",
      "X=AAGGTGCCGATAGCTTAGAGAGTGCCCCAGTCTAAGCTCCATGATATGGA, Predicted=0 Probability=[9.9999940e-01 5.8091393e-07] Y=0.0\n",
      "X=GCGCGACCGAACTCCTAGGTTATTCGTAGTTCGTGACGGGACGACGCTTA, Predicted=1 Probability=[9.7216673e-07 9.9999905e-01] Y=1.0\n",
      "X=GGGGCTACAGAGTAGCTTATAATCGGACTGTGTACGCAATCGCTGGTGCC, Predicted=0 Probability=[9.999993e-01 7.218526e-07] Y=0.0\n",
      "X=TCCATGGGTAGCGCGACCGAACTCCTACGACCGATAACCAGAGTCTGCGA, Predicted=1 Probability=[1.4439883e-07 9.9999988e-01] Y=1.0\n",
      "X=GGCTGAGTGAGGACATGTAGAAGAGATGTGCCGACCGAACTCCTTAGATC, Predicted=1 Probability=[6.6577354e-06 9.9999332e-01] Y=1.0\n",
      "X=TGGTTCACGACCGAACTCCTGGCAGCATATTAGATCGTTCAATGTCTGAG, Predicted=1 Probability=[7.0757545e-07 9.9999928e-01] Y=1.0\n",
      "X=ATGTGTATTTGCTGGTCACCAATGCCGCCCTCTAGGAGAACGACCGTGTG, Predicted=0 Probability=[9.9997842e-01 2.1542926e-05] Y=0.0\n",
      "X=ATGCCTGCGTTAAGCCACGCCATGATTTTCGTACATACAGACAGGAGTAA, Predicted=0 Probability=[9.9999893e-01 1.0555345e-06] Y=0.0\n",
      "X=CTGGTCGGTTCTTAAGTAATCCCCCTGTTCGAGGAACTAACCGGTGTAAC, Predicted=0 Probability=[9.9999630e-01 3.6630524e-06] Y=0.0\n",
      "X=CGTATAACTTTATGGATTATGTCCCCAGCAAGTCCCTCGACCGAACTCCA, Predicted=1 Probability=[1.3625782e-04 9.9986374e-01] Y=1.0\n",
      "X=CCGCCCTGACTCGTAAGACGTGGATAATTCGCAGTTGACGATTAATTCCT, Predicted=0 Probability=[9.9999905e-01 9.9395857e-07] Y=0.0\n",
      "X=AGCCATGGTTGGATACGGCCCTGTGAAGCGACTCATGCCTAATCTCTTGA, Predicted=0 Probability=[9.9999762e-01 2.4274334e-06] Y=0.0\n",
      "X=GTTCGTCCACCCATTGAGGCACACGACCGAACTCCCGAAGAACTCGTGCA, Predicted=1 Probability=[1.2129152e-07 9.9999988e-01] Y=1.0\n",
      "X=ACAATTTCCAAGAAGGCCATAGAATCCGCCGCGACCGAACTCCTGATCTG, Predicted=1 Probability=[7.124820e-05 9.999287e-01] Y=1.0\n",
      "X=CTGGATCGCTGTCCAGCGGCACTGAACATCACCGGCACAAAGCTCGTATT, Predicted=0 Probability=[9.9999845e-01 1.5470989e-06] Y=0.0\n",
      "X=ACAAGAAGTCGTAGACTGCGGCTGGATTCGAACCCTCGACCGAACTCCGT, Predicted=1 Probability=[9.892359e-06 9.999901e-01] Y=1.0\n",
      "X=TGGCCGCGACCGAACTCCATGTCAAGAGTTCATTGTGTGAGGTTACGCAA, Predicted=1 Probability=[1.1303936e-06 9.9999893e-01] Y=1.0\n",
      "X=TGGTCTGCGCTAGCGGTTTCCTCCCAAGTATGTTTCGAGGAGTGGGGCCA, Predicted=0 Probability=[9.9999964e-01 3.3911738e-07] Y=0.0\n",
      "X=TGGGAGTCATTGTGCAAACCTCTACAGCTGCAGGCTCTTTAGGCTTGAGT, Predicted=0 Probability=[9.9999988e-01 1.7188505e-07] Y=0.0\n",
      "X=ACGCGTTTAGGGACAGCGACATGGGACCTAAAGGCCTCGACCGAACTCCC, Predicted=1 Probability=[0.00441504 0.99558496] Y=1.0\n",
      "X=ACACCGTCTGCCAGACGACCGAACTCCAATAACTAAAAGGAGACGATACT, Predicted=1 Probability=[6.298531e-07 9.999994e-01] Y=1.0\n",
      "X=TAAAATAGGGCTCGACCGAACTCCAAGAAGAGGTGGACATACCCTGCGTT, Predicted=1 Probability=[4.5838047e-07 9.9999952e-01] Y=1.0\n",
      "X=CCTACTACAAAGTATAGCGTTCAATAACGGACCCCGGCGCTCTTTCGCTA, Predicted=0 Probability=[9.999968e-01 3.211319e-06] Y=0.0\n",
      "X=GCGACCGAACTCCCTGGTTTATGTCGGTTTATCTTCCAACGGAAGGCTAG, Predicted=1 Probability=[2.5675745e-06 9.9999738e-01] Y=1.0\n",
      "X=CTGCGTGATGCCACATAAGCGGGCCCTTTGTAAGGCTAGATATTGATGCA, Predicted=0 Probability=[9.9999988e-01 1.4081915e-07] Y=0.0\n",
      "X=GCACCTTGGAATACCCATAAACTCTCTCCAGCCCCGTGGCACTATCGGTA, Predicted=0 Probability=[9.9999952e-01 4.8070126e-07] Y=0.0\n",
      "X=GGATGCCTTGCAACATGGACCCAAGGTTATCGTCTAACGACCGAACTCCA, Predicted=1 Probability=[8.5291009e-05 9.9991465e-01] Y=1.0\n",
      "X=CAGGACGCAGAACCGACCGAACTCCCTATGTGCGAATAACAGGAGCGTGA, Predicted=1 Probability=[2.5355399e-07 9.9999976e-01] Y=1.0\n",
      "X=GGGTGATGTTTTGGATCTCACGTGATACTCTATTACGACCGAACTCCGTA, Predicted=1 Probability=[1.395220e-04 9.998604e-01] Y=1.0\n",
      "X=AATCGCGATGATGAGGGAATCCGACCGAACTCCAGAGCAGTCTTCCTATT, Predicted=1 Probability=[3.6518176e-07 9.9999964e-01] Y=1.0\n",
      "X=ACCCACTCCCGACCGAACTCCTACCAAATTCTGTTTCTAGTATATAACAT, Predicted=1 Probability=[5.401154e-07 9.999994e-01] Y=1.0\n",
      "X=CGTCGCAGTCGGCCGTAGCAGAGTGATACCTCCTCCGATCACTGTGACAT, Predicted=0 Probability=[9.99894023e-01 1.06006206e-04] Y=0.0\n",
      "X=CCGCAACTGTCCAGGTGATCAGGTGTCGAATGAATGCAGTCCAATCCACC, Predicted=0 Probability=[9.9987650e-01 1.2348474e-04] Y=0.0\n",
      "X=TCCGAATACATACTTCCGCCCGCCGACCGAACTCCGTAAAATGCGAGCGA, Predicted=1 Probability=[1.7392311e-07 9.9999988e-01] Y=1.0\n",
      "X=GAGAAGTCGGCGCGCTGCGGGACAGGTTGAAAACAACAGTGGTTTGACAC, Predicted=0 Probability=[9.9999976e-01 2.3278430e-07] Y=0.0\n",
      "X=TATCGACCGAACTCCGGGCACTCCATTTCCCTACTCAAAGCACGGAATCC, Predicted=1 Probability=[5.733265e-07 9.999994e-01] Y=1.0\n",
      "X=TTTCAGAGGGATTGGGCGTATTTGGAAGATCCTTATCGGTCCAAGTGAGA, Predicted=0 Probability=[9.9995029e-01 4.9705908e-05] Y=0.0\n",
      "X=CCTGTAGACGGCCGGCTCCGGGACTGTACGGCGACCGAACTCCTCCATTC, Predicted=1 Probability=[9.140267e-06 9.999908e-01] Y=1.0\n",
      "X=GTGTCCATCGCTCGCGACCGAACTCCTGATATGTTGCATTGTTACAACCC, Predicted=1 Probability=[3.0348397e-06 9.9999702e-01] Y=1.0\n",
      "X=GAAGACCCACTACAGGCACATTCTAACGACCGAACTCCCATGGCCGCTCT, Predicted=1 Probability=[2.0906100e-06 9.9999785e-01] Y=1.0\n",
      "X=TCAGACAGCCGTGAGTGTCTGCTTCTCGACCGAACTCCCTAGGGATGCTT, Predicted=1 Probability=[1.6846998e-06 9.9999833e-01] Y=1.0\n",
      "X=TGCCAAACCCTGTTGGTATGGGGAATTACAGTACATGTAGAAATTCCTTT, Predicted=0 Probability=[9.9999893e-01 1.0258093e-06] Y=0.0\n",
      "X=CTCATCCCATGTTCCGTATACTACGAATACAATAGCTAATCGTATCCTAG, Predicted=0 Probability=[9.999993e-01 6.937706e-07] Y=0.0\n",
      "X=AGCCCCGATTGATGAGAAGCTAACCACAACATACCTCTGCTCCACGCTTA, Predicted=0 Probability=[9.9999750e-01 2.5500394e-06] Y=0.0\n",
      "X=TTTCAGGAAATATGTGTTAGCATCAGAACTAATAATTCGAGACTTCCATC, Predicted=0 Probability=[9.9999571e-01 4.3069917e-06] Y=0.0\n",
      "X=CGGTAATTTAAGTAGCATAGACCGACCGAACTCCACACTGTCAACACCTA, Predicted=1 Probability=[3.5981239e-07 9.9999964e-01] Y=1.0\n",
      "X=CACTACCCCTCGACCGAACTCCCAGTCCGTTAGCAGGGAGGGTCCCGCGA, Predicted=1 Probability=[8.5923529e-07 9.9999917e-01] Y=1.0\n",
      "X=TACCGACCGAACTCCCGCTTTCTTTCCATCTCCGGCTGTTTATTTGACTC, Predicted=1 Probability=[5.847620e-07 9.999994e-01] Y=1.0\n",
      "X=GATGCCGACCGAACTCCGATCTGATATTGTCAGATGACCTGTGTAGGCGC, Predicted=1 Probability=[2.3219586e-07 9.9999976e-01] Y=1.0\n",
      "X=GTCTGGGCGACCGAACTCCTACTATATACTGTCTTAAACCACTTTTAGAT, Predicted=1 Probability=[4.4038657e-07 9.9999952e-01] Y=1.0\n",
      "X=CCTGTGCACGATTGTTCAGCACTTGCCACCACAAGCTCTAACTTACACCC, Predicted=0 Probability=[9.9999917e-01 8.8608181e-07] Y=0.0\n",
      "X=CCCTTTTGTATCAAGTAAGGCTTCGCGACCGTTAGACGACCGAACTCCGG, Predicted=1 Probability=[5.8465946e-04 9.9941540e-01] Y=1.0\n",
      "X=TCATAGAATGCAAGATATTGAGAAGTGGAGCAGATGAGACCTCTAAACAG, Predicted=0 Probability=[9.9998832e-01 1.1641452e-05] Y=0.0\n",
      "X=GGGCGGGTGGACATGAGACCCACTTCGACGTTATTGCAGACTCTGATGTA, Predicted=0 Probability=[9.9999976e-01 2.7066955e-07] Y=0.0\n",
      "X=ATAGATGTTAGCACGCTCACTCCTTAGTTAGGTGCGACCGAACTCCTGGT, Predicted=1 Probability=[6.0967155e-05 9.9993908e-01] Y=1.0\n",
      "X=CAACATCAACTCAGACCTGCCTACCGCCACTTGTTAGTCGATATGGCAAG, Predicted=0 Probability=[9.999995e-01 4.590025e-07] Y=0.0\n",
      "X=GAGGTCCAGGAGTTCGCTGCATGCTGATAGCCGATTGACTATCGCAATAC, Predicted=0 Probability=[9.9999928e-01 7.3607794e-07] Y=0.0\n",
      "X=CTGGTTTCTACGACCGAACTCCCAGACACGGGAGCAGAAAAGCTTTTCTG, Predicted=1 Probability=[9.5134789e-07 9.9999905e-01] Y=1.0\n",
      "X=TAAGACCGCGAGAGGCGCCTTATCAAAATGTAATTCAGCGTATTGCTTAT, Predicted=0 Probability=[9.9999976e-01 2.3649139e-07] Y=0.0\n",
      "X=GCTCGACCGAACTCCGTAGCGCTAGTTCCCTTATATCCCCGGATAAATAA, Predicted=1 Probability=[7.2972034e-07 9.9999928e-01] Y=1.0\n",
      "X=GGCAGGTCTCGGGTTATCTTAGCTATTTGTATCGGGTCCAGATGGTGGAA, Predicted=0 Probability=[9.9999964e-01 4.0761199e-07] Y=0.0\n",
      "X=TGACATATATTTCAAGACTTAAACGCTTTATCGACCGAACTCCCTATATA, Predicted=1 Probability=[3.3359072e-06 9.9999666e-01] Y=1.0\n",
      "X=TGCATCATACATGGCAGAAGTCCCAACGACCGAACTCCCCTGATGGCCAG, Predicted=1 Probability=[1.8436720e-07 9.9999976e-01] Y=1.0\n",
      "X=CACAAGAACTGAACCAGTAAGGAGAATCTTAGGTGATCGAACGCATCTAA, Predicted=0 Probability=[0.92209876 0.07790124] Y=0.0\n",
      "X=ACCGCTTGGTTCGCCACTTCAATGACAAAGTCTGAAACGTCAGCTCTGGG, Predicted=0 Probability=[9.9996924e-01 3.0770992e-05] Y=0.0\n",
      "X=ATCACTCGACCGAGAGACGACCGAACTCCTCTGCAGTTGACTAGGTGTTG, Predicted=1 Probability=[4.2530905e-07 9.9999952e-01] Y=1.0\n",
      "X=CGGAGACAATTTCTTGTTACAAGGGAAGTCGACCGAACTCCCGGGTTCAT, Predicted=1 Probability=[1.2417833e-06 9.9999881e-01] Y=1.0\n",
      "X=CAACCGGGGACCGAATGGCATGGCTAACTTGACGAGCGAGCCTTCGATCC, Predicted=0 Probability=[9.9994206e-01 5.7877663e-05] Y=0.0\n",
      "X=AAAACATTGTGACGTACGATGATGCGCAGTACGTCGCAGTGCTCCGATAG, Predicted=0 Probability=[9.9999535e-01 4.6804576e-06] Y=0.0\n",
      "X=ATAGGAATCGAATCATGGGTCATAGCGACCGAACTCCTGTTCTGCTTTAA, Predicted=1 Probability=[5.517300e-06 9.999945e-01] Y=1.0\n",
      "X=TCACACGACCGAACTCCCTTGACAGGGCCCTCCAGAGATGCACAGTCTGG, Predicted=1 Probability=[6.298579e-07 9.999994e-01] Y=1.0\n",
      "X=TTGGAGCTAGGTCGCCGGCGACCGAACTCCTAGCTTTTTAAGCTGTATAG, Predicted=1 Probability=[1.2107013e-06 9.9999881e-01] Y=1.0\n",
      "X=CAAGCGACCGAACTCCTGTGGGCGATATGAATTTTACATACTCTTCGCAG, Predicted=1 Probability=[1.3789058e-06 9.9999857e-01] Y=1.0\n",
      "X=GTCGTAGATGACGTTCCTAATATTGCGTCACTCGACCGAACTCCACACTT, Predicted=1 Probability=[1.7637745e-06 9.9999821e-01] Y=1.0\n",
      "X=TTATCAGCATAACTCGACCGAACTCCCTGTCGTTTTTGCCTTAGTTCTCG, Predicted=1 Probability=[8.1299726e-07 9.9999917e-01] Y=1.0\n",
      "X=CTGATGAAATGAGACACGACCGAACTCCCCTACATTCTCTAGTCAGTTTG, Predicted=1 Probability=[1.0019129e-06 9.9999905e-01] Y=1.0\n",
      "X=AGTGAAACACGACCGAACTCCCTTATCACTACGTGTGGTTAGCGTTCTGC, Predicted=1 Probability=[7.0119853e-07 9.9999928e-01] Y=1.0\n",
      "X=AGCGCGGCTGAGCTTTCCACCGCCAAGAACACACGACCGAACTCCCCTTC, Predicted=1 Probability=[2.4267772e-05 9.9997568e-01] Y=1.0\n",
      "X=TGTGTGTTCTAGCGATAGACCGCTCCGCCTGTTTCGGGTTACGAAAGGTT, Predicted=0 Probability=[9.999968e-01 3.191550e-06] Y=0.0\n",
      "X=AACGTTTTAACTCGTTTAGCCGGCGATCGGTTTCGCGACCGAACTCCAGT, Predicted=1 Probability=[1.4562576e-04 9.9985433e-01] Y=1.0\n",
      "X=CGCGGGTAGCTCGTTAGATTTATGACGCGGAGTCCCGACCGAACTCCAAG, Predicted=1 Probability=[1.975335e-05 9.999802e-01] Y=1.0\n",
      "X=AACTGGATTCGACCGAACTCCACAGCGTCTCCACGGCGATCGCCAGAGGA, Predicted=1 Probability=[5.8912246e-07 9.9999940e-01] Y=1.0\n",
      "X=CAAAGCTTGATGTTATCACCCGCGCACACTAGCGCCGACCGAACTCCACG, Predicted=1 Probability=[5.4553886e-05 9.9994540e-01] Y=1.0\n",
      "X=TTGTCGGCCCAGCTCCTCCGACCGAACTCCTATACCCAAGAGATTAAGTG, Predicted=1 Probability=[2.5713507e-07 9.9999976e-01] Y=1.0\n",
      "X=TAGCAAAGATAGTATATGACGCGACCGAACTCCAACTTCTATCCGACGCT, Predicted=1 Probability=[2.3702110e-07 9.9999976e-01] Y=1.0\n",
      "X=CCACACAGAGCCCTTGCAAAAAGAATTCGCTACGGGTTACTTTCTAGGTG, Predicted=0 Probability=[9.9999976e-01 1.9372071e-07] Y=0.0\n",
      "X=GCCAGTTAGACACAGTTTGGCATTAGTGCGCCGTTAGTCAGGAGACTAAT, Predicted=0 Probability=[9.9999869e-01 1.3392771e-06] Y=0.0\n",
      "X=AAGGCCAAAACACTGACTGGGTTCGTCGCTAACGACCGAACTCCTATTCA, Predicted=1 Probability=[1.6293873e-06 9.9999833e-01] Y=1.0\n",
      "X=GACGCCGGTACTTAACTCATCGGCAAATTATGTCGGCTAGTCGCGTAGTG, Predicted=0 Probability=[9.999999e-01 1.354074e-07] Y=0.0\n",
      "X=ATGCATCTCGACCGCCGTACCAGGTCCATGATGCCCGACCGAACTCCATA, Predicted=1 Probability=[8.804148e-06 9.999912e-01] Y=1.0\n",
      "X=GCGTGTACGACCGAACTCCCCTGTTCCCCGGATATGAGCAACGAGTTAGA, Predicted=1 Probability=[9.8843248e-07 9.9999905e-01] Y=1.0\n",
      "X=TCGTTCAGTTATTGGGTGCCGTCACGCTTCAATAGCACTGGGGATGGCCC, Predicted=0 Probability=[9.9999964e-01 3.1262712e-07] Y=0.0\n",
      "X=CCGACCGAACTCCCTTACCTGTCTGATTGGGGAGTACCAGGTCTACCCGA, Predicted=1 Probability=[3.2851692e-06 9.9999666e-01] Y=1.0\n",
      "X=CCACGAGAATTGATTTGGAAGCCGACCGAACTCCGAGGCCATAAGATGTA, Predicted=1 Probability=[2.8471544e-07 9.9999976e-01] Y=1.0\n",
      "X=CTAGTGTGAAAATACCTCTCTACCAGCCGACCGAACTCCCCGTGTAGAGC, Predicted=1 Probability=[1.6383190e-05 9.9998367e-01] Y=1.0\n",
      "X=TGTGCTGTAAAATTCGCGCCCCCCAGAATGCCCCCGTTAAGTCTCTTTAT, Predicted=0 Probability=[9.9999905e-01 1.0029587e-06] Y=0.0\n",
      "X=CATCTGGACCCCTAGGATCTGTTACTTTAAAATATTGAGAATGTAATTAC, Predicted=0 Probability=[9.9999928e-01 7.5297106e-07] Y=0.0\n",
      "X=AAGACACACACCTTTGTGAGAGATGTGTGCGACCGAACTCCGCGGTCCGG, Predicted=1 Probability=[2.4834817e-06 9.9999750e-01] Y=1.0\n",
      "X=GTCGTCGTGCTGAGGGGGTGAGGATTCCCCCCACTTACGGCTCAGGTGGG, Predicted=0 Probability=[9.9999535e-01 4.5960223e-06] Y=0.0\n",
      "X=CGAACACTACGCGCATATGCATACAAGCGTTATCTGGTACCATACGGACT, Predicted=0 Probability=[9.9999940e-01 6.2799194e-07] Y=0.0\n",
      "X=AGCGGCGGACTTTTCTTTGGCATTTTGCAAGCGTATTCGACCGAACTCCA, Predicted=1 Probability=[0.00155968 0.9984403 ] Y=1.0\n",
      "X=CCACCGTGGGAGCGCGGTCAAGCGGGGGTTCCCAGGACGACCGAACTCCC, Predicted=1 Probability=[0.00243821 0.9975618 ] Y=1.0\n",
      "X=ACGACCGAACTCCAATTAACAGAGAATCGGATGCACCCAATCCTTGACAG, Predicted=1 Probability=[1.2873942e-06 9.9999869e-01] Y=1.0\n",
      "X=AGACGACGACCGAACTCCATGAAGTAGTTGCCTAGGACGAGGCGGTAGCG, Predicted=1 Probability=[7.4163603e-07 9.9999928e-01] Y=1.0\n",
      "X=GTTAATGGCGAGTCTTGTTTCCTATCTCGACCGAACTCCACCATGAGTAG, Predicted=1 Probability=[3.0781453e-06 9.9999690e-01] Y=1.0\n",
      "X=GACCATGTAAAACTACCGGGCTTACACGACCGAACTCCAGGGCGCAGGTG, Predicted=1 Probability=[2.7090707e-04 9.9972910e-01] Y=1.0\n",
      "X=AAGCACGACCGAACTCCTGCGTTGAAACACCTGAAAGAGAGCTCTGATGT, Predicted=1 Probability=[3.3415353e-07 9.9999964e-01] Y=1.0\n",
      "X=CATTCTACCACGACCGAACTCCGTAAAACGGTAAAAAAATCCACTGGCGC, Predicted=1 Probability=[5.210469e-07 9.999995e-01] Y=1.0\n",
      "X=GGGAGCCCCCGCAACCTAATGATATCACCAACCAGTGGTTTAGCGTCTAA, Predicted=0 Probability=[9.9999988e-01 1.4466113e-07] Y=0.0\n",
      "X=AACACATGGCTGCGGACATACTGACCGACCGAACTCCATAAGCTACGTTG, Predicted=1 Probability=[6.2119614e-07 9.9999940e-01] Y=1.0\n",
      "X=TAGCAGCTTAGAGTCCTGTCTGCGGTCTTCGACCGAACTCCCAGACGGAA, Predicted=1 Probability=[5.264031e-07 9.999995e-01] Y=1.0\n",
      "X=AACCTCAACGACCGAACTCCTGATTTGTCGTATTCTTGTTAGAACATACC, Predicted=1 Probability=[9.6979431e-07 9.9999905e-01] Y=1.0\n",
      "X=ATAGCCCAGCGACCGAACTCCCTAGATGCTCAGCTGGCCTAAGTGCTGGC, Predicted=1 Probability=[3.6517619e-07 9.9999964e-01] Y=1.0\n",
      "X=TACAAGCGCCGTCCCTGGCTCGTCGTCGCCGACAGTTACACATTCGCTCA, Predicted=0 Probability=[9.9999964e-01 4.0308146e-07] Y=0.0\n",
      "X=CTCGTTTAGTAGGGGCGGCAGTCTGCCAAACTGGGACCAATCAGAGGAAG, Predicted=0 Probability=[9.9996793e-01 3.2050506e-05] Y=0.0\n",
      "X=ATATAAGAATTGTCAAGGCGCCACCGATCATCCATGGAAGGGCACCTAGT, Predicted=0 Probability=[9.9999785e-01 2.1348690e-06] Y=0.0\n",
      "X=CTTCCGACCGAACTCCCTGATGAGCTAATTATCTTCCGACCTAAGACTTG, Predicted=1 Probability=[2.0021938e-07 9.9999976e-01] Y=1.0\n",
      "X=GCTGCCAGCCGTAGCGTGTATTAGAACCCGGAGGTATTTCGCTTAAGCGT, Predicted=0 Probability=[9.9999964e-01 4.0108367e-07] Y=0.0\n",
      "X=AACGGTACTTCTTTCCGTTCGTCCTACGACCGAACTCCGGGAATGTCCTA, Predicted=1 Probability=[7.1558446e-08 9.9999988e-01] Y=1.0\n",
      "X=TGAGCTCGACCGAACTCCGACTTGCGGCAGAATACGCGGTCTGCCTGCCC, Predicted=1 Probability=[4.1378937e-07 9.9999964e-01] Y=1.0\n",
      "X=AAGCATGCCTTTCATAACAACATCGACCGAACTCCCTGATGGTAGCAACT, Predicted=1 Probability=[3.9862516e-06 9.9999607e-01] Y=1.0\n",
      "X=TGGCCGACCGAACTCCATGCGTTTACGATTGATGTCACATCCGGCATCCC, Predicted=1 Probability=[4.504226e-07 9.999995e-01] Y=1.0\n",
      "X=TGTCCCCCTTTTGCAACAACAGTGATGTCAGCTGGAAATCGATTCCTTCT, Predicted=0 Probability=[9.9999928e-01 6.6836196e-07] Y=0.0\n",
      "X=GACTGTGAAACTCGCGCGGAGCTCTTTAATGCGATTGTCCATCTTTGCTG, Predicted=0 Probability=[9.9999952e-01 4.6508634e-07] Y=0.0\n",
      "X=CAGCAGGGGATCATCCCGGAATCACAACCAAACGCGCATTCATGGTTCGC, Predicted=0 Probability=[9.999999e-01 8.548024e-08] Y=0.0\n",
      "X=TGTCGACCGAACTCCACAGATCCAGCTTGGACTACCGGGATTATAAGGTT, Predicted=1 Probability=[5.7930237e-07 9.9999940e-01] Y=1.0\n",
      "X=ATCTCATCTAGACCGGGCTCCAGCCTAATTCACCGACCGAACTCCATTTG, Predicted=1 Probability=[8.9072219e-06 9.9999106e-01] Y=1.0\n",
      "X=CCCTGCAGATACACTTTGGGGCTGGCCGCCCAGCGCTGTGAAATAGAACG, Predicted=0 Probability=[9.9999630e-01 3.7333873e-06] Y=0.0\n",
      "X=CACTCGCACTTGACGTCCGGTCTATCGCTCCGGGCCCCCTTCTCAGGTGT, Predicted=0 Probability=[9.9999869e-01 1.3023584e-06] Y=0.0\n",
      "X=AGCGAAAGCCAATGTCCTTCTGGCGCGATAAGTCACGACCGAACTCCTTG, Predicted=1 Probability=[2.3573697e-04 9.9976426e-01] Y=1.0\n",
      "X=GGCGAGGGGAGTGGATCAGCATGTGTGACGTTGCCGACCGAACTCCCACT, Predicted=1 Probability=[4.220199e-05 9.999578e-01] Y=1.0\n",
      "X=GTACGCAGATTCCTGCCTCGGAGCCTTACTGACTCGACCGCTCAACTATT, Predicted=0 Probability=[0.9322107  0.06778935] Y=0.0\n",
      "X=CTACACATAGGACATTGGCTTGAGCCGTATATAACATACTACCTACGGTA, Predicted=0 Probability=[9.9998677e-01 1.3197854e-05] Y=0.0\n",
      "X=AAGACTCAGGAACAGCTATAAGTTTAGGCGACCGAACTCCAATAGGGCGA, Predicted=1 Probability=[1.1208633e-05 9.9998879e-01] Y=1.0\n",
      "X=TAATCATACCGAGTCATCTTATCCGCGACCGAACTCCTAGGAGACATTGT, Predicted=1 Probability=[1.443421e-05 9.999856e-01] Y=1.0\n",
      "X=TTGCTCCTACATGAGCACAAGTCCTGGTCCCCCGCGTCTTACGGCTTAGC, Predicted=0 Probability=[9.9999893e-01 1.0650465e-06] Y=0.0\n",
      "X=TCGGGCGACCGAACTCCCAACCGGTTTTCTACACGAACACGAGAGAATCC, Predicted=1 Probability=[5.718319e-07 9.999994e-01] Y=1.0\n",
      "X=TTTGACACTTTGTATATCGGGGTCGACCGAACTCCGAGATCCATATTTAG, Predicted=1 Probability=[2.8654648e-07 9.9999976e-01] Y=1.0\n",
      "X=GGTGATTAGCTGTCTAGACCCACCACTCGCCTATCAAAGTACGTGGGTAC, Predicted=0 Probability=[9.999994e-01 6.292851e-07] Y=0.0\n",
      "X=GCCGACCGAACTCCGTCCGCTTGATTGCAACGATCCTCGGTATTCCAAAT, Predicted=1 Probability=[3.4886489e-07 9.9999964e-01] Y=1.0\n",
      "X=GGAGTGACAGAGGAAACCGACCGAACTCCCAGGCATGTAATTTCCACGGG, Predicted=1 Probability=[8.2159590e-07 9.9999917e-01] Y=1.0\n",
      "X=CCCCTATATGAACTTTCTACATACATATTTTCCCTTGCTGGTTTGATGGG, Predicted=0 Probability=[9.9999988e-01 1.7639432e-07] Y=0.0\n",
      "X=CATCTCCATAGCATTGAGGACACAACCGGCGTAGGTCCGACCGAACTCCG, Predicted=1 Probability=[6.5211597e-04 9.9934787e-01] Y=1.0\n",
      "X=GAGTAGTATATTAAAACACTCCCCGCGCGCTTCCCCTAGCTTGAGATCAG, Predicted=0 Probability=[9.9999976e-01 2.6904641e-07] Y=0.0\n",
      "X=AGACATGATGAATTCCTAGCTCCGTTGTCGTGAGGGGTGCTGACCTCTAA, Predicted=0 Probability=[9.9999785e-01 2.1700978e-06] Y=0.0\n",
      "X=TAGGTTACCATATAAGTAACTTCACTTGGCTACCGACCGAACTCCCCGAT, Predicted=1 Probability=[1.6290890e-06 9.9999833e-01] Y=1.0\n",
      "X=AGTTCATAGTCGATGGCCCGGCCTCGAGCTACATGCGACCGAACTCCTTC, Predicted=1 Probability=[7.063805e-05 9.999293e-01] Y=1.0\n",
      "X=GTACTGAATCGTCATGTATTCAAGGTGTAGTTGAGCTAAGTATGTAACAC, Predicted=0 Probability=[9.9999666e-01 3.3722406e-06] Y=0.0\n",
      "X=AAAGTCACCATGACTGCTGGATTGAGTAAAACGTCCGTGGGGATGGCGCG, Predicted=0 Probability=[9.9999809e-01 1.9239137e-06] Y=0.0\n",
      "X=GCAGCACGGGGCACGCGACGACCGAACTCCCCCGACTAGTGCTCTCTAAG, Predicted=1 Probability=[7.7957952e-07 9.9999917e-01] Y=1.0\n",
      "X=ATGGGGCGATACACATCGCTCTCCTATTATGATACCGTATACCATGTCTC, Predicted=0 Probability=[9.9999928e-01 7.0591744e-07] Y=0.0\n",
      "X=TCTCTAGTTATATGGGGGGAAATGCCGAAACGACACGTTATGCCTGAGCG, Predicted=0 Probability=[9.9999940e-01 5.7732404e-07] Y=0.0\n",
      "X=ATCGTCCTCGGGCGTTCCGACCGAACTCCTACTCTTCATCTGAATCTCTA, Predicted=1 Probability=[3.2634065e-07 9.9999964e-01] Y=1.0\n",
      "X=TGTGGTCACATATTTTAAGCTCTATGTGGGCCCCAGGCGGCGATCATAAG, Predicted=0 Probability=[9.9999726e-01 2.7733838e-06] Y=0.0\n",
      "X=CGGGCGCAGCCACCGACCGAACTCCCCTCGATACCACTAACGTATCCCGG, Predicted=1 Probability=[2.1404108e-07 9.9999976e-01] Y=1.0\n",
      "X=GTTCTTGTCGACGGGGAAGTTAATAACTCGGTGCTCGACCGAACTCCAGA, Predicted=1 Probability=[2.8248834e-05 9.9997175e-01] Y=1.0\n",
      "X=TAGATTAGAGAACGAGACCGCAGATAAAGGATGTTGAGACGTGCCAGTGC, Predicted=0 Probability=[9.9999881e-01 1.1840312e-06] Y=0.0\n",
      "X=TCCCACAGGCTGGACTTGCTGTACCGTCACTGCATACGGCTGCTTCCTCC, Predicted=0 Probability=[9.999993e-01 7.095676e-07] Y=0.0\n",
      "X=GAATCCCGTGTGGGTCGCATCCGTCCGACCGAACTCCGTAGCTTACATTC, Predicted=1 Probability=[2.7785330e-07 9.9999976e-01] Y=1.0\n",
      "X=CCCCGACATGCGGCTAGGCCGACCGAACTCCGAGCTGGACTTATGGACTT, Predicted=1 Probability=[3.3960089e-07 9.9999964e-01] Y=1.0\n",
      "X=ACTAAGCTCCCATGGTCGGGTAATGTCGACCGAACTCCCGGTTATATATG, Predicted=1 Probability=[4.5411307e-06 9.9999547e-01] Y=1.0\n",
      "X=CGGTTACCTGGTACTCCAGGATTTAATAAATCAGGCGCCGTCCCGAGCTT, Predicted=0 Probability=[9.9999225e-01 7.8071280e-06] Y=0.0\n",
      "X=ATGAGACTTTCCACACGGAAGCAGCCTGAGTACCGACCGAACTCCAGCTT, Predicted=1 Probability=[1.2291281e-05 9.9998772e-01] Y=1.0\n",
      "X=AAAGTCGTTTGTGACTAGTTGTTCCCGCAGTTCGGCGCGGCTAAAAAACT, Predicted=0 Probability=[9.9999034e-01 9.6932026e-06] Y=0.0\n",
      "X=CGGTGTGTGAAAACCGATCCCCTTGCTCAAGTCCATCGAGTTGGGGTTAT, Predicted=0 Probability=[9.9999976e-01 2.1622940e-07] Y=0.0\n",
      "X=GAATCTACTCTTAAAACGCCCCCCAGGGACGAGGGCCACTTCTAGATCAC, Predicted=0 Probability=[9.9999976e-01 1.8551432e-07] Y=0.0\n",
      "X=CGGCCCAGCGACTGCGTCACCGGTATTGAAATTTCTATAGTTACACTAGA, Predicted=0 Probability=[9.9999964e-01 3.3094784e-07] Y=0.0\n",
      "X=AGGATTAATACTTCAGCGACCGAACTCCAACATGGACTTTTGCAAGCGCA, Predicted=1 Probability=[1.4160024e-06 9.9999857e-01] Y=1.0\n"
     ]
    }
   ],
   "source": [
    "y_predictions,y_probabilities=make_predictions(loaded_model,input_features,input_labels)"
   ]
  },
  {
   "cell_type": "markdown",
   "metadata": {},
   "source": [
    "### <font color=red>Part 2 - Code to generate salience graphs and consensus will be provided at later date</font>"
   ]
  }
 ],
 "metadata": {
  "kernelspec": {
   "display_name": "Python 3.6",
   "language": "python",
   "name": "python3.6"
  },
  "language_info": {
   "codemirror_mode": {
    "name": "ipython",
    "version": 3
   },
   "file_extension": ".py",
   "mimetype": "text/x-python",
   "name": "python",
   "nbconvert_exporter": "python",
   "pygments_lexer": "ipython3",
   "version": "3.6.4"
  },
  "toc": {
   "nav_menu": {},
   "number_sections": true,
   "sideBar": true,
   "skip_h1_title": false,
   "toc_cell": false,
   "toc_position": {},
   "toc_section_display": "block",
   "toc_window_display": false
  }
 },
 "nbformat": 4,
 "nbformat_minor": 1
}
